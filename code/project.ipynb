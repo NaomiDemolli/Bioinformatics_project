{
 "cells": [
  {
   "cell_type": "code",
   "execution_count": 5,
   "id": "1758bef9",
   "metadata": {},
   "outputs": [],
   "source": [
    "import matplotlib.pyplot as plt\n",
    "import numpy as np\n",
    "import pandas as pd"
   ]
  },
  {
   "cell_type": "markdown",
   "id": "74f702cb",
   "metadata": {},
   "source": [
    "### Label"
   ]
  },
  {
   "cell_type": "markdown",
   "id": "9edbf6ae",
   "metadata": {},
   "source": [
    "Labels of enhancers remain strongly unbalance, even with dropping. Almost all values of enhancers labels are 0 (third quartile is 0).\n",
    "\n",
    "I decided to set promoters threshold equal to 1 and don't drop values between 0 and 1 because this improve balance between classes but not enough to eliminate samples from the dataset. \n",
    "About enhancers the threshold is set to 0 because this leads classes to be as balanced as possible.\n",
    "\n",
    "I'm not focusing on the biological meaning of my choices, the threshold are chosen to obtain a dataset useful for learning. "
   ]
  },
  {
   "cell_type": "code",
   "execution_count": null,
   "id": "402833b1",
   "metadata": {},
   "outputs": [],
   "source": [
    "promoters_labels = pd.read_csv('./pre_processed_dataset/labels_promoters.csv', index_col = [0,1,2,3])\n",
    "enhancers_labels = pd.read_csv('./pre_processed_dataset/labels_enhancers.csv', index_col = [0,1,2,3])\n",
    "promoters = pd.read_csv('./pre_processed_dataset/epigenomes_promoters.csv', index_col = [0,1,2,3])\n",
    "enhancers = pd.read_csv('./pre_processed_dataset/epigenomes_enhancers.csv', index_col = [0,1,2,3])\n",
    "\n",
    "epigenomes = {\n",
    "    \"promoters\": promoters,\n",
    "    \"enhancers\": enhancers\n",
    "}\n",
    "\n",
    "labels = {\n",
    "    \"promoters\": promoters_labels,\n",
    "    \"enhancers\": enhancers_labels\n",
    "}"
   ]
  },
  {
   "cell_type": "markdown",
   "id": "47952c07",
   "metadata": {},
   "source": [
    "### Features distribution"
   ]
  },
  {
   "cell_type": "code",
   "execution_count": 11,
   "id": "2eb6c346",
   "metadata": {},
   "outputs": [],
   "source": [
    "from sklearn.metrics.pairwise import euclidean_distances"
   ]
  },
  {
   "cell_type": "code",
   "execution_count": 2,
   "id": "bacc7c78",
   "metadata": {},
   "outputs": [],
   "source": [
    "def get_top_most_different(dist, n:int):\n",
    "    return np.argsort(-np.mean(dist, axis=1).flatten())[:n]"
   ]
  },
  {
   "cell_type": "code",
   "execution_count": 3,
   "id": "984a9a7c",
   "metadata": {},
   "outputs": [
    {
     "ename": "NameError",
     "evalue": "name 'epigenomes' is not defined",
     "output_type": "error",
     "traceback": [
      "\u001b[1;31m---------------------------------------------------------------------------\u001b[0m",
      "\u001b[1;31mNameError\u001b[0m                                 Traceback (most recent call last)",
      "\u001b[1;32m~\\AppData\\Local\\Temp/ipykernel_19800/2222205852.py\u001b[0m in \u001b[0;36m<module>\u001b[1;34m\u001b[0m\n\u001b[0;32m      1\u001b[0m \u001b[0mtop_number\u001b[0m \u001b[1;33m=\u001b[0m \u001b[1;36m5\u001b[0m\u001b[1;33m\u001b[0m\u001b[1;33m\u001b[0m\u001b[0m\n\u001b[0;32m      2\u001b[0m \u001b[1;33m\u001b[0m\u001b[0m\n\u001b[1;32m----> 3\u001b[1;33m \u001b[1;32mfor\u001b[0m \u001b[0mregion\u001b[0m\u001b[1;33m,\u001b[0m \u001b[0mx\u001b[0m \u001b[1;32min\u001b[0m \u001b[0mepigenomes\u001b[0m\u001b[1;33m.\u001b[0m\u001b[0mitems\u001b[0m\u001b[1;33m(\u001b[0m\u001b[1;33m)\u001b[0m\u001b[1;33m:\u001b[0m\u001b[1;33m\u001b[0m\u001b[1;33m\u001b[0m\u001b[0m\n\u001b[0m\u001b[0;32m      4\u001b[0m     \u001b[0mdist\u001b[0m \u001b[1;33m=\u001b[0m \u001b[0meuclidean_distances\u001b[0m\u001b[1;33m(\u001b[0m\u001b[0mx\u001b[0m\u001b[1;33m.\u001b[0m\u001b[0mT\u001b[0m\u001b[1;33m)\u001b[0m\u001b[1;33m\u001b[0m\u001b[1;33m\u001b[0m\u001b[0m\n\u001b[0;32m      5\u001b[0m     \u001b[0mmost_distance_columns_indices\u001b[0m \u001b[1;33m=\u001b[0m \u001b[0mget_top_most_different\u001b[0m\u001b[1;33m(\u001b[0m\u001b[0mdist\u001b[0m\u001b[1;33m,\u001b[0m \u001b[0mtop_number\u001b[0m\u001b[1;33m)\u001b[0m\u001b[1;33m\u001b[0m\u001b[1;33m\u001b[0m\u001b[0m\n",
      "\u001b[1;31mNameError\u001b[0m: name 'epigenomes' is not defined"
     ]
    }
   ],
   "source": [
    "top_number = 5\n",
    "\n",
    "for region, x in epigenomes.items():\n",
    "    dist = euclidean_distances(x.T)\n",
    "    most_distance_columns_indices = get_top_most_different(dist, top_number)\n",
    "    columns = x.columns[most_distance_columns_indices]\n",
    "    fig, axes = plt.subplots(nrows=1, ncols=5, figsize=(25, 5))\n",
    "    print(f\"Top {top_number} different features from {region}.\")\n",
    "    for column, axis in zip(columns, axes.flatten()):\n",
    "        head, tail = x[column].quantile([0.05, 0.95]).values.ravel()\n",
    "        \n",
    "        mask = ((x[column] < tail) & (x[column] > head)).values\n",
    "        \n",
    "        cleared_x = x[column][mask]\n",
    "        cleared_y = labels[region].values.ravel()[mask]\n",
    "        \n",
    "        cleared_x[cleared_y==0].hist(ax=axis, bins=20)\n",
    "        cleared_x[cleared_y==1].hist(ax=axis, bins=20)\n",
    "\n",
    "        axis.set_title(column)\n",
    "    fig.tight_layout()\n",
    "    plt.show()"
   ]
  },
  {
   "cell_type": "markdown",
   "id": "fb58ac4b",
   "metadata": {},
   "source": [
    "### PCA"
   ]
  },
  {
   "cell_type": "code",
   "execution_count": 4,
   "id": "592dac6f",
   "metadata": {},
   "outputs": [
    {
     "ename": "NameError",
     "evalue": "name 'np' is not defined",
     "output_type": "error",
     "traceback": [
      "\u001b[1;31m---------------------------------------------------------------------------\u001b[0m",
      "\u001b[1;31mNameError\u001b[0m                                 Traceback (most recent call last)",
      "\u001b[1;32m~\\AppData\\Local\\Temp/ipykernel_19800/3917866689.py\u001b[0m in \u001b[0;36m<module>\u001b[1;34m\u001b[0m\n\u001b[1;32m----> 1\u001b[1;33m \u001b[1;32mdef\u001b[0m \u001b[0mpca\u001b[0m\u001b[1;33m(\u001b[0m\u001b[0mx\u001b[0m\u001b[1;33m:\u001b[0m \u001b[0mnp\u001b[0m\u001b[1;33m.\u001b[0m\u001b[0mndarray\u001b[0m\u001b[1;33m,\u001b[0m \u001b[0mn_components\u001b[0m\u001b[1;33m:\u001b[0m \u001b[0mint\u001b[0m \u001b[1;33m=\u001b[0m \u001b[1;36m2\u001b[0m\u001b[1;33m)\u001b[0m \u001b[1;33m->\u001b[0m \u001b[0mnp\u001b[0m\u001b[1;33m.\u001b[0m\u001b[0mndarray\u001b[0m\u001b[1;33m:\u001b[0m\u001b[1;33m\u001b[0m\u001b[1;33m\u001b[0m\u001b[0m\n\u001b[0m\u001b[0;32m      2\u001b[0m     \u001b[1;32mreturn\u001b[0m \u001b[0mPCA\u001b[0m\u001b[1;33m(\u001b[0m\u001b[0mn_components\u001b[0m\u001b[1;33m=\u001b[0m\u001b[0mn_components\u001b[0m\u001b[1;33m,\u001b[0m \u001b[0mrandom_state\u001b[0m\u001b[1;33m=\u001b[0m\u001b[1;36m42\u001b[0m\u001b[1;33m)\u001b[0m\u001b[1;33m.\u001b[0m\u001b[0mfit_transform\u001b[0m\u001b[1;33m(\u001b[0m\u001b[0mx\u001b[0m\u001b[1;33m)\u001b[0m\u001b[1;33m\u001b[0m\u001b[1;33m\u001b[0m\u001b[0m\n",
      "\u001b[1;31mNameError\u001b[0m: name 'np' is not defined"
     ]
    }
   ],
   "source": [
    "def pca(x: np.ndarray, n_components: int = 2) -> np.ndarray:\n",
    "    return PCA(n_components=n_components, random_state=42).fit_transform(x)"
   ]
  },
  {
   "cell_type": "code",
   "execution_count": null,
   "id": "84b04a65",
   "metadata": {},
   "outputs": [],
   "source": [
    "tasks = {\n",
    "    \"x\": [\n",
    "        *[\n",
    "            val.values\n",
    "            for val in epigenomes.values()\n",
    "        ],\n",
    "        *[\n",
    "            val.values\n",
    "            for val in sequences.values()\n",
    "        ]\n",
    "    ],\n",
    "    \"y\": [\n",
    "        *[\n",
    "            val.values.ravel()\n",
    "            for val in labels.values()\n",
    "        ],\n",
    "        *[\n",
    "            val.values.ravel()\n",
    "            for val in labels.values()\n",
    "        ]\n",
    "    ],\n",
    "    \"titles\": [\n",
    "        \"Epigenomes promoters\",\n",
    "        \"Epigenomes enhancers\",\n",
    "        \"Sequences promoters\",\n",
    "        \"Sequences enhancers\"\n",
    "    ]\n",
    "}\n",
    "\n",
    "xs = tasks[\"x\"]\n",
    "ys = tasks[\"y\"]\n",
    "titles = tasks[\"titles\"]\n",
    "\n",
    "assert len(xs) == len(ys) == len(titles)\n",
    "\n",
    "for x, y in zip(xs, ys):\n",
    "    assert x.shape[0] == y.shape[0]"
   ]
  },
  {
   "cell_type": "code",
   "execution_count": null,
   "id": "8861ada3",
   "metadata": {},
   "outputs": [],
   "source": [
    "colors = np.array([\n",
    "    \"tab:blue\",\n",
    "    \"tab:orange\",\n",
    "])"
   ]
  },
  {
   "cell_type": "code",
   "execution_count": null,
   "id": "56095698",
   "metadata": {},
   "outputs": [],
   "source": [
    "fig, axes = plt.subplots(nrows=1, ncols=4, figsize=(32, 8))\n",
    "\n",
    "for x, y, title, axis in tqdm(zip(xs, ys, titles, axes.flatten()), desc=\"Computing PCAs\", total=len(xs)):\n",
    "    axis.scatter(*pca(x).T, s=1, color=colors[y.astype(int)])\n",
    "    axis.xaxis.set_visible(False)\n",
    "    axis.yaxis.set_visible(False)\n",
    "    axis.set_title(f\"PCA decomposition - {title}\")\n",
    "plt.savefig(\"./img/PCA decomposition\")\n",
    "plt.show()"
   ]
  }
 ],
 "metadata": {
  "kernelspec": {
   "display_name": "Python 3 (ipykernel)",
   "language": "python",
   "name": "python3"
  },
  "language_info": {
   "codemirror_mode": {
    "name": "ipython",
    "version": 3
   },
   "file_extension": ".py",
   "mimetype": "text/x-python",
   "name": "python",
   "nbconvert_exporter": "python",
   "pygments_lexer": "ipython3",
   "version": "3.9.7"
  }
 },
 "nbformat": 4,
 "nbformat_minor": 5
}
