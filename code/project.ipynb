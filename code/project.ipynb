{
 "cells": [
  {
   "cell_type": "code",
   "execution_count": 2,
   "id": "1758bef9",
   "metadata": {},
   "outputs": [],
   "source": [
    "import matplotlib.pyplot as plt\n",
    "import numpy as np\n",
    "import pandas as pd"
   ]
  },
  {
   "cell_type": "markdown",
   "id": "74f702cb",
   "metadata": {},
   "source": [
    "### Label"
   ]
  },
  {
   "cell_type": "markdown",
   "id": "9edbf6ae",
   "metadata": {},
   "source": [
    "Labels of enhancers remain strongly unbalance, even with dropping. Almost all values of enhancers labels are 0 (third quartile is 0).\n",
    "\n",
    "I decided to set promoters threshold equal to 1 and don't drop values between 0 and 1 because this improve balance between classes but not enough to eliminate samples from the dataset. \n",
    "About enhancers the threshold is set to 0 because this leads classes to be as balanced as possible.\n",
    "\n",
    "I'm not focusing on the biological meaning of my choices, the threshold are chosen to obtain a dataset useful for learning. "
   ]
  },
  {
   "cell_type": "code",
   "execution_count": null,
   "id": "402833b1",
   "metadata": {},
   "outputs": [],
   "source": [
    "promoters_labels = pd.read_csv('./pre_processed_dataset/labels_promoters.csv', index_col = [0,1,2,3])\n",
    "enhancers_labels = pd.read_csv('./pre_processed_dataset/labels_enhancers.csv', index_col = [0,1,2,3])\n",
    "promoters = pd.read_csv('./pre_processed_dataset/epigenomes_promoters.csv', index_col = [0,1,2,3])\n",
    "enhancers = pd.read_csv('./pre_processed_dataset/epigenomes_enhancers.csv', index_col = [0,1,2,3])\n",
    "\n",
    "epigenomes = {\n",
    "    \"promoters\": promoters,\n",
    "    \"enhancers\": enhancers\n",
    "}\n",
    "\n",
    "labels = {\n",
    "    \"promoters\": promoters_labels,\n",
    "    \"enhancers\": enhancers_labels\n",
    "}"
   ]
  },
  {
   "cell_type": "markdown",
   "id": "68f6e38d",
   "metadata": {},
   "source": []
  },
  {
   "cell_type": "code",
   "execution_count": 11,
   "id": "2eb6c346",
   "metadata": {},
   "outputs": [],
   "source": []
  }
 ],
 "metadata": {
  "kernelspec": {
   "display_name": "Python 3 (ipykernel)",
   "language": "python",
   "name": "python3"
  },
  "language_info": {
   "codemirror_mode": {
    "name": "ipython",
    "version": 3
   },
   "file_extension": ".py",
   "mimetype": "text/x-python",
   "name": "python",
   "nbconvert_exporter": "python",
   "pygments_lexer": "ipython3",
   "version": "3.9.7"
  }
 },
 "nbformat": 4,
 "nbformat_minor": 5
}
