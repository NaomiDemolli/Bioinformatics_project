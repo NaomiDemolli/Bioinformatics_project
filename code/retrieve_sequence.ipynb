{
 "cells": [
  {
   "cell_type": "code",
   "execution_count": 15,
   "id": "a80968a3",
   "metadata": {},
   "outputs": [],
   "source": [
    "from ucsc_genomes_downloader import Genome\n",
    "import pandas as pd\n",
    "import numpy as np\n",
    "from retrieve_preprocessed_dataset import *"
   ]
  },
  {
   "cell_type": "code",
   "execution_count": 4,
   "id": "55b146e7",
   "metadata": {},
   "outputs": [],
   "source": [
    "epigenomes, labels = retrieve_epigenomes_labels()"
   ]
  },
  {
   "cell_type": "code",
   "execution_count": 5,
   "id": "46bc7df1",
   "metadata": {},
   "outputs": [],
   "source": [
    "def to_bed(data:pd.DataFrame)->pd.DataFrame:\n",
    "    \"\"\"Return bed coordinates from given dataset.\"\"\"\n",
    "    return data.reset_index()[data.index.names]"
   ]
  },
  {
   "cell_type": "code",
   "execution_count": 18,
   "id": "5df8a9e1",
   "metadata": {},
   "outputs": [],
   "source": [
    "from keras_bed_sequence import BedSequence\n",
    "\n",
    "def one_hot_encode(genome:Genome, data:pd.DataFrame, nucleotides:str=\"actg\")->np.ndarray:\n",
    "    return np.array(BedSequence(\n",
    "        genome,\n",
    "        bed=to_bed(data),\n",
    "        nucleotides=nucleotides,\n",
    "        batch_size=1\n",
    "    ))"
   ]
  },
  {
   "cell_type": "code",
   "execution_count": 19,
   "id": "264498e3",
   "metadata": {},
   "outputs": [],
   "source": [
    "def flat_one_hot_encode(genome:Genome, data:pd.DataFrame, window_size:int, nucleotides:str=\"actg\")->np.ndarray:\n",
    "    return one_hot_encode(genome, data, nucleotides).reshape(-1, window_size*4).astype(int)"
   ]
  },
  {
   "cell_type": "code",
   "execution_count": 20,
   "id": "57b3281e",
   "metadata": {},
   "outputs": [],
   "source": [
    "def to_dataframe(x:np.ndarray, window_size:int, nucleotides:str=\"actg\")->pd.DataFrame:\n",
    "    return pd.DataFrame(\n",
    "        x,\n",
    "        columns = [\n",
    "            f\"{i}{nucleotide}\"\n",
    "            for i in range(window_size)\n",
    "            for nucleotide in nucleotides\n",
    "        ]\n",
    "    )"
   ]
  },
  {
   "cell_type": "code",
   "execution_count": 12,
   "id": "eb44113e",
   "metadata": {},
   "outputs": [],
   "source": [
    "def generate_sequences():\n",
    "\n",
    "    window_size = 256 # nucleotidi\n",
    "\n",
    "    genome = Genome('hg38')\n",
    "\n",
    "\n",
    "    sequences = {\n",
    "        region: to_dataframe(\n",
    "            flat_one_hot_encode(genome, data, window_size),\n",
    "            window_size\n",
    "        )\n",
    "        for region, data in epigenomes.items()\n",
    "    }\n",
    "    \n",
    "    sequences[\"promoters\"].to_csv('./pre_processed_dataset/sequence_promoters.csv') \n",
    "    sequences['enhancers'].to_csv('./pre_processed_dataset/sequence_enhancers.csv')  "
   ]
  },
  {
   "cell_type": "code",
   "execution_count": 13,
   "id": "9a5283d4",
   "metadata": {},
   "outputs": [
    {
     "data": {
      "application/vnd.jupyter.widget-view+json": {
       "model_id": "",
       "version_major": 2,
       "version_minor": 0
      },
      "text/plain": [
       "Loading chromosomes for genome hg38:   0%|                                                      | 0/25 [00:00<…"
      ]
     },
     "metadata": {},
     "output_type": "display_data"
    }
   ],
   "source": [
    "generate_sequences()"
   ]
  }
 ],
 "metadata": {
  "interpreter": {
   "hash": "130f8aa5228c201e73e32eed5afb048f905dd2a915a5f1102f334fb1ca8047e8"
  },
  "kernelspec": {
   "display_name": "Python 3 (ipykernel)",
   "language": "python",
   "name": "python3"
  },
  "language_info": {
   "codemirror_mode": {
    "name": "ipython",
    "version": 3
   },
   "file_extension": ".py",
   "mimetype": "text/x-python",
   "name": "python",
   "nbconvert_exporter": "python",
   "pygments_lexer": "ipython3",
   "version": "3.9.7"
  }
 },
 "nbformat": 4,
 "nbformat_minor": 5
}
