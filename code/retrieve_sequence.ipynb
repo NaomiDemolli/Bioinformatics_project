{
 "cells": [
  {
   "cell_type": "code",
   "execution_count": 11,
   "id": "a80968a3",
   "metadata": {},
   "outputs": [],
   "source": [
    "from ucsc_genomes_downloader import Genome\n",
    "import pandas as pd\n",
    "import numpy as np"
   ]
  },
  {
   "cell_type": "code",
   "execution_count": 7,
   "id": "e63f8678",
   "metadata": {},
   "outputs": [],
   "source": [
    "promoters_labels = pd.read_csv('./pre_processed_dataset/labels_promoters.csv', index_col = [0,1,2,3])\n",
    "enhancers_labels = pd.read_csv('./pre_processed_dataset/labels_enhancers.csv', index_col = [0,1,2,3])\n",
    "promoters = pd.read_csv('./pre_processed_dataset/epigenomes_promoters.csv', index_col = [0,1,2,3])\n",
    "enhancers = pd.read_csv('./pre_processed_dataset/epigenomes_enhancers.csv', index_col = [0,1,2,3])\n",
    "\n",
    "epigenomes = {\n",
    "    \"promoters\": promoters,\n",
    "    \"enhancers\": enhancers\n",
    "}\n",
    "\n",
    "labels = {\n",
    "    \"promoters\": promoters_labels,\n",
    "    \"enhancers\": enhancers_labels\n",
    "}"
   ]
  },
  {
   "cell_type": "code",
   "execution_count": 2,
   "id": "f960eb2a",
   "metadata": {},
   "outputs": [],
   "source": [
    "window_size = 256 # nucleotidi"
   ]
  },
  {
   "cell_type": "code",
   "execution_count": 3,
   "id": "8858ab87",
   "metadata": {},
   "outputs": [
    {
     "data": {
      "application/vnd.jupyter.widget-view+json": {
       "model_id": "",
       "version_major": 2,
       "version_minor": 0
      },
      "text/plain": [
       "Loading chromosomes for genome hg38:   0%|                                                      | 0/25 [00:00<…"
      ]
     },
     "metadata": {},
     "output_type": "display_data"
    }
   ],
   "source": [
    "genome = Genome('hg38')"
   ]
  },
  {
   "cell_type": "code",
   "execution_count": 8,
   "id": "2c3d2239",
   "metadata": {},
   "outputs": [
    {
     "data": {
      "text/html": [
       "<div>\n",
       "<style scoped>\n",
       "    .dataframe tbody tr th:only-of-type {\n",
       "        vertical-align: middle;\n",
       "    }\n",
       "\n",
       "    .dataframe tbody tr th {\n",
       "        vertical-align: top;\n",
       "    }\n",
       "\n",
       "    .dataframe thead th {\n",
       "        text-align: right;\n",
       "    }\n",
       "</style>\n",
       "<table border=\"1\" class=\"dataframe\">\n",
       "  <thead>\n",
       "    <tr style=\"text-align: right;\">\n",
       "      <th></th>\n",
       "      <th>chrom</th>\n",
       "      <th>chromStart</th>\n",
       "      <th>chromEnd</th>\n",
       "      <th>strand</th>\n",
       "    </tr>\n",
       "  </thead>\n",
       "  <tbody>\n",
       "    <tr>\n",
       "      <th>0</th>\n",
       "      <td>chr1</td>\n",
       "      <td>628964</td>\n",
       "      <td>629220</td>\n",
       "      <td>+</td>\n",
       "    </tr>\n",
       "    <tr>\n",
       "      <th>1</th>\n",
       "      <td>chr1</td>\n",
       "      <td>629013</td>\n",
       "      <td>629269</td>\n",
       "      <td>+</td>\n",
       "    </tr>\n",
       "    <tr>\n",
       "      <th>2</th>\n",
       "      <td>chr1</td>\n",
       "      <td>629642</td>\n",
       "      <td>629898</td>\n",
       "      <td>+</td>\n",
       "    </tr>\n",
       "    <tr>\n",
       "      <th>3</th>\n",
       "      <td>chr1</td>\n",
       "      <td>629847</td>\n",
       "      <td>630103</td>\n",
       "      <td>+</td>\n",
       "    </tr>\n",
       "    <tr>\n",
       "      <th>4</th>\n",
       "      <td>chr1</td>\n",
       "      <td>629905</td>\n",
       "      <td>630161</td>\n",
       "      <td>+</td>\n",
       "    </tr>\n",
       "  </tbody>\n",
       "</table>\n",
       "</div>"
      ],
      "text/plain": [
       "  chrom  chromStart  chromEnd strand\n",
       "0  chr1      628964    629220      +\n",
       "1  chr1      629013    629269      +\n",
       "2  chr1      629642    629898      +\n",
       "3  chr1      629847    630103      +\n",
       "4  chr1      629905    630161      +"
      ]
     },
     "metadata": {},
     "output_type": "display_data"
    }
   ],
   "source": [
    "def to_bed(data:pd.DataFrame)->pd.DataFrame:\n",
    "    \"\"\"Return bed coordinates from given dataset.\"\"\"\n",
    "    return data.reset_index()[data.index.names]\n",
    "\n",
    "display(to_bed(epigenomes[\"promoters\"])[:5])"
   ]
  },
  {
   "cell_type": "code",
   "execution_count": 9,
   "id": "34149b09",
   "metadata": {},
   "outputs": [
    {
     "data": {
      "text/plain": [
       "array(['AAATGGTCATCCATCCTTTGGCCCCAATACCTAAACTAAGGTCTATGAACAATAAGATGATTTTCTTCAGTGGGACTTTTTTGTTTAATATATTAGATTTGACCTTCAGCAAGGTCAAAGGGAGTCCGAACTAGTCTCAGGCTTCAACATCGAATACGCCGCAGGCCCCTTCGCCCTATTCTTCATAGCCGAATACACAAACATTATTATAATAAACACCCTCACCACTACAATCTTCCTAGGAACAACATATAAC',\n",
       "       'CAATAAGATGATTTTCTTCAGTGGGACTTTTTTGTTTAATATATTAGATTTGACCTTCAGCAAGGTCAAAGGGAGTCCGAACTAGTCTCAGGCTTCAACATCGAATACGCCGCAGGCCCCTTCGCCCTATTCTTCATAGCCGAATACACAAACATTATTATAATAAACACCCTCACCACTACAATCTTCCTAGGAACAACATATAACGCACTCTCCCCTGAACTCTACACAACATATTTTGTCACCAAGACCCTAC'],\n",
       "      dtype='<U256')"
      ]
     },
     "execution_count": 9,
     "metadata": {},
     "output_type": "execute_result"
    }
   ],
   "source": [
    "genome.bed_to_sequence(to_bed(epigenomes[\"promoters\"])[:2])"
   ]
  },
  {
   "cell_type": "code",
   "execution_count": 12,
   "id": "a1dc58d1",
   "metadata": {},
   "outputs": [
    {
     "data": {
      "text/plain": [
       "array([[[[0., 1., 0., 0.],\n",
       "         [1., 0., 0., 0.],\n",
       "         [1., 0., 0., 0.],\n",
       "         ...,\n",
       "         [0., 0., 1., 0.],\n",
       "         [1., 0., 0., 0.],\n",
       "         [0., 1., 0., 0.]]],\n",
       "\n",
       "\n",
       "       [[[1., 0., 0., 0.],\n",
       "         [1., 0., 0., 0.],\n",
       "         [1., 0., 0., 0.],\n",
       "         ...,\n",
       "         [1., 0., 0., 0.],\n",
       "         [1., 0., 0., 0.],\n",
       "         [0., 1., 0., 0.]]]])"
      ]
     },
     "execution_count": 12,
     "metadata": {},
     "output_type": "execute_result"
    }
   ],
   "source": [
    "from keras_bed_sequence import BedSequence\n",
    "\n",
    "def one_hot_encode(genome:Genome, data:pd.DataFrame, nucleotides:str=\"actg\")->np.ndarray:\n",
    "    return np.array(BedSequence(\n",
    "        genome,\n",
    "        bed=to_bed(data),\n",
    "        nucleotides=nucleotides,\n",
    "        batch_size=1\n",
    "    ))\n",
    "\n",
    "one_hot_encode(genome, epigenomes[\"promoters\"][:2])"
   ]
  },
  {
   "cell_type": "code",
   "execution_count": 13,
   "id": "2909b426",
   "metadata": {},
   "outputs": [
    {
     "data": {
      "text/plain": [
       "array([[0, 1, 0, ..., 1, 0, 0],\n",
       "       [1, 0, 0, ..., 1, 0, 0]])"
      ]
     },
     "execution_count": 13,
     "metadata": {},
     "output_type": "execute_result"
    }
   ],
   "source": [
    "def flat_one_hot_encode(genome:Genome, data:pd.DataFrame, window_size:int, nucleotides:str=\"actg\")->np.ndarray:\n",
    "    return one_hot_encode(genome, data, nucleotides).reshape(-1, window_size*4).astype(int)\n",
    "\n",
    "flat_one_hot_encode(genome, epigenomes[\"promoters\"][:2], window_size)"
   ]
  },
  {
   "cell_type": "code",
   "execution_count": 14,
   "id": "9a97ca32",
   "metadata": {},
   "outputs": [],
   "source": [
    "def to_dataframe(x:np.ndarray, window_size:int, nucleotides:str=\"actg\")->pd.DataFrame:\n",
    "    return pd.DataFrame(\n",
    "        x,\n",
    "        columns = [\n",
    "            f\"{i}{nucleotide}\"\n",
    "            for i in range(window_size)\n",
    "            for nucleotide in nucleotides\n",
    "        ]\n",
    "    )"
   ]
  },
  {
   "cell_type": "code",
   "execution_count": 15,
   "id": "932a38e6",
   "metadata": {},
   "outputs": [],
   "source": [
    "sequences = {\n",
    "    region: to_dataframe(\n",
    "        flat_one_hot_encode(genome, data, window_size),\n",
    "        window_size\n",
    "    )\n",
    "    for region, data in epigenomes.items()\n",
    "}"
   ]
  },
  {
   "cell_type": "code",
   "execution_count": 16,
   "id": "2909a08f",
   "metadata": {},
   "outputs": [
    {
     "data": {
      "text/html": [
       "<div>\n",
       "<style scoped>\n",
       "    .dataframe tbody tr th:only-of-type {\n",
       "        vertical-align: middle;\n",
       "    }\n",
       "\n",
       "    .dataframe tbody tr th {\n",
       "        vertical-align: top;\n",
       "    }\n",
       "\n",
       "    .dataframe thead th {\n",
       "        text-align: right;\n",
       "    }\n",
       "</style>\n",
       "<table border=\"1\" class=\"dataframe\">\n",
       "  <thead>\n",
       "    <tr style=\"text-align: right;\">\n",
       "      <th></th>\n",
       "      <th>0a</th>\n",
       "      <th>0c</th>\n",
       "      <th>0t</th>\n",
       "      <th>0g</th>\n",
       "      <th>1a</th>\n",
       "      <th>1c</th>\n",
       "      <th>1t</th>\n",
       "      <th>1g</th>\n",
       "      <th>2a</th>\n",
       "      <th>2c</th>\n",
       "      <th>...</th>\n",
       "      <th>253t</th>\n",
       "      <th>253g</th>\n",
       "      <th>254a</th>\n",
       "      <th>254c</th>\n",
       "      <th>254t</th>\n",
       "      <th>254g</th>\n",
       "      <th>255a</th>\n",
       "      <th>255c</th>\n",
       "      <th>255t</th>\n",
       "      <th>255g</th>\n",
       "    </tr>\n",
       "  </thead>\n",
       "  <tbody>\n",
       "    <tr>\n",
       "      <th>0</th>\n",
       "      <td>0</td>\n",
       "      <td>0</td>\n",
       "      <td>0</td>\n",
       "      <td>1</td>\n",
       "      <td>0</td>\n",
       "      <td>0</td>\n",
       "      <td>1</td>\n",
       "      <td>0</td>\n",
       "      <td>0</td>\n",
       "      <td>0</td>\n",
       "      <td>...</td>\n",
       "      <td>0</td>\n",
       "      <td>0</td>\n",
       "      <td>0</td>\n",
       "      <td>0</td>\n",
       "      <td>1</td>\n",
       "      <td>0</td>\n",
       "      <td>0</td>\n",
       "      <td>1</td>\n",
       "      <td>0</td>\n",
       "      <td>0</td>\n",
       "    </tr>\n",
       "    <tr>\n",
       "      <th>1</th>\n",
       "      <td>1</td>\n",
       "      <td>0</td>\n",
       "      <td>0</td>\n",
       "      <td>0</td>\n",
       "      <td>0</td>\n",
       "      <td>1</td>\n",
       "      <td>0</td>\n",
       "      <td>0</td>\n",
       "      <td>0</td>\n",
       "      <td>0</td>\n",
       "      <td>...</td>\n",
       "      <td>1</td>\n",
       "      <td>0</td>\n",
       "      <td>0</td>\n",
       "      <td>0</td>\n",
       "      <td>0</td>\n",
       "      <td>1</td>\n",
       "      <td>1</td>\n",
       "      <td>0</td>\n",
       "      <td>0</td>\n",
       "      <td>0</td>\n",
       "    </tr>\n",
       "  </tbody>\n",
       "</table>\n",
       "<p>2 rows × 1024 columns</p>\n",
       "</div>"
      ],
      "text/plain": [
       "   0a  0c  0t  0g  1a  1c  1t  1g  2a  2c  ...  253t  253g  254a  254c  254t  \\\n",
       "0   0   0   0   1   0   0   1   0   0   0  ...     0     0     0     0     1   \n",
       "1   1   0   0   0   0   1   0   0   0   0  ...     1     0     0     0     0   \n",
       "\n",
       "   254g  255a  255c  255t  255g  \n",
       "0     0     0     1     0     0  \n",
       "1     1     1     0     0     0  \n",
       "\n",
       "[2 rows x 1024 columns]"
      ]
     },
     "execution_count": 16,
     "metadata": {},
     "output_type": "execute_result"
    }
   ],
   "source": [
    "sequences[\"promoters\"][:2]\n",
    "# avevamo una finestra di 200 nucleotidi, ognuno è codifiato one-hot da 4 elementi perché sono 4 le classi (actg)"
   ]
  },
  {
   "cell_type": "code",
   "execution_count": 17,
   "id": "dcd5dabc",
   "metadata": {},
   "outputs": [],
   "source": [
    "sequences['enhancers'].to_csv('./pre_processed_dataset/sequence_enhancers.csv')  \n",
    "sequences[\"promoters\"].to_csv('./pre_processed_dataset/sequence_promoters.csv') "
   ]
  }
 ],
 "metadata": {
  "kernelspec": {
   "display_name": "Python 3 (ipykernel)",
   "language": "python",
   "name": "python3"
  },
  "language_info": {
   "codemirror_mode": {
    "name": "ipython",
    "version": 3
   },
   "file_extension": ".py",
   "mimetype": "text/x-python",
   "name": "python",
   "nbconvert_exporter": "python",
   "pygments_lexer": "ipython3",
   "version": "3.9.7"
  }
 },
 "nbformat": 4,
 "nbformat_minor": 5
}
