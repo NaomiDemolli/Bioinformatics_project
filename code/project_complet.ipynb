{
 "cells": [
  {
   "cell_type": "code",
   "execution_count": 190,
   "id": "1758bef9",
   "metadata": {},
   "outputs": [],
   "source": [
    "import matplotlib.pyplot as plt\n",
    "import numpy as np\n",
    "\n",
    "import pre_processing as pre_pro\n",
    "import correlations as corr"
   ]
  },
  {
   "cell_type": "markdown",
   "id": "10471829",
   "metadata": {},
   "source": [
    "# Retrieving data"
   ]
  },
  {
   "cell_type": "markdown",
   "id": "74f702cb",
   "metadata": {},
   "source": [
    "### Label"
   ]
  },
  {
   "cell_type": "code",
   "execution_count": 215,
   "id": "c91a04a8",
   "metadata": {},
   "outputs": [],
   "source": [
    "from epigenomic_dataset import active_enhancers_vs_inactive_enhancers\n",
    "from epigenomic_dataset import active_promoters_vs_inactive_promoters"
   ]
  },
  {
   "cell_type": "code",
   "execution_count": null,
   "id": "40ee0c8c",
   "metadata": {},
   "outputs": [],
   "source": [
    "enhancers, enhancers_labels = active_enhancers_vs_inactive_enhancers(cell_line='A549')\n",
    "promoters, promoters_labels = active_promoters_vs_inactive_promoters(cell_line='A549')\n",
    "\n",
    "epigenomes = {\n",
    "    \"promoters\": promoters,\n",
    "    \"enhancers\": enhancers\n",
    "}\n",
    "\n",
    "labels = {\n",
    "    \"promoters\": promoters_labels,\n",
    "    \"enhancers\": enhancers_labels\n",
    "}"
   ]
  },
  {
   "cell_type": "code",
   "execution_count": null,
   "id": "9e73b25d",
   "metadata": {},
   "outputs": [],
   "source": [
    "labe"
   ]
  },
  {
   "cell_type": "code",
   "execution_count": 193,
   "id": "bc9490bb",
   "metadata": {},
   "outputs": [],
   "source": [
    "# bins = 100\n",
    "# fig, axes = plt.subplots(ncols=len(labels), figsize=(10, 5))\n",
    "\n",
    "# for axis, (region, lbl) in zip(axes, labels.items()):\n",
    "#     lbl.hist(ax = axis, bins = bins, log = True)\n",
    "#     axis.set_title('Labels in ' + region)\n",
    "#     plt.savefig('.\\img\\labels_distribution')"
   ]
  },
  {
   "cell_type": "code",
   "execution_count": 194,
   "id": "09afb8d3",
   "metadata": {},
   "outputs": [],
   "source": [
    "# print(promoters_labels.describe())\n",
    "# print('-'*20)\n",
    "# print(enhancers_labels.describe())"
   ]
  },
  {
   "cell_type": "markdown",
   "id": "29b194bd",
   "metadata": {},
   "source": [
    "#### threshold"
   ]
  },
  {
   "cell_type": "code",
   "execution_count": 195,
   "id": "90d00b53",
   "metadata": {},
   "outputs": [],
   "source": [
    "# def threshold_imbalance(dict_labels:dict, pro_thre:int, enh_thre:int) -> tuple:\n",
    "    \n",
    "#     rate1 = (dict_labels['promoters']['A549']> pro_thre).mean()\n",
    "#     rate2 = (dict_labels['enhancers']['A549']> enh_thre).mean()\n",
    "    \n",
    "#     return ('promoters_rate: ' + str(rate1),'enhancers_rate: '+ str(rate2))"
   ]
  },
  {
   "cell_type": "code",
   "execution_count": 196,
   "id": "7e2ed838",
   "metadata": {},
   "outputs": [],
   "source": [
    "# threshold_imbalance(labels, 5, 0) # Wassmann mess"
   ]
  },
  {
   "cell_type": "code",
   "execution_count": 197,
   "id": "c61659da",
   "metadata": {},
   "outputs": [],
   "source": [
    "# threshold_imbalance(labels, 1, 1)"
   ]
  },
  {
   "cell_type": "markdown",
   "id": "c50bb751",
   "metadata": {},
   "source": [
    "#### dropping values between 0 and 1 and binarization"
   ]
  },
  {
   "cell_type": "code",
   "execution_count": 198,
   "id": "873025af",
   "metadata": {},
   "outputs": [],
   "source": [
    "# def drop_01_binarization_1() -> dict:\n",
    "#     labels_drop = {}\n",
    "    \n",
    "#     for region, data in labels.items():\n",
    "    \n",
    "#         df = labels[region]\n",
    "#         df_drop = df[(df['A549'] == 0) | (df['A549'] >= 1)] \n",
    "#         df_drop = df_drop['A549'] > 1\n",
    "#         labels_drop[region] = df_drop\n",
    "    \n",
    "#     return labels_drop"
   ]
  },
  {
   "cell_type": "code",
   "execution_count": 199,
   "id": "eb7dd94c",
   "metadata": {},
   "outputs": [],
   "source": [
    "# labels_drop = drop_01_binarization_1()"
   ]
  },
  {
   "cell_type": "code",
   "execution_count": 200,
   "id": "4c93cc80",
   "metadata": {},
   "outputs": [],
   "source": [
    "# fig, axes = plt.subplots(ncols=2, figsize=(10, 5))\n",
    "\n",
    "# for axis, (region, lbl) in zip(axes.ravel(), labels_drop.items()):\n",
    "#     lbl.astype(int).hist(ax=axis, bins=2, alpha=0.5, rwidth=0.6)\n",
    "#     axis.set_title(f\"Classes count in {region} - dropping & thres = 1\", pad=20)\n",
    "#     axis.set_xticks([])\n",
    "#     axis.set_ylim(0, 83000)\n",
    "#     plt.subplots_adjust(wspace = 0.9)\n",
    "#     plt.savefig('.\\img\\class_count_drop_1threa.jpg')"
   ]
  },
  {
   "cell_type": "code",
   "execution_count": 201,
   "id": "280dab2a",
   "metadata": {},
   "outputs": [],
   "source": [
    "# labels_drop['promoters'].mean(), labels_drop['enhancers'].mean()"
   ]
  },
  {
   "cell_type": "markdown",
   "id": "c9fa5a57",
   "metadata": {},
   "source": [
    "#### label binarizzate con soglia (1,1)"
   ]
  },
  {
   "cell_type": "code",
   "execution_count": 202,
   "id": "f43a99e6",
   "metadata": {},
   "outputs": [],
   "source": [
    "# enhancers, enhancers_labels = active_enhancers_vs_inactive_enhancers(cell_line='A549', binarize = True)\n",
    "# promoters, promoters_labels = active_promoters_vs_inactive_promoters(cell_line='A549', binarize = True)\n",
    "\n",
    "# labels = {\n",
    "#     \"promoters\": promoters_labels,\n",
    "#     \"enhancers\": enhancers_labels\n",
    "# }"
   ]
  },
  {
   "cell_type": "code",
   "execution_count": 203,
   "id": "ddd35070",
   "metadata": {},
   "outputs": [],
   "source": [
    "# fig, axes = plt.subplots(ncols=2, figsize=(10, 5))\n",
    "\n",
    "# for axis, (region, lbl) in zip(axes.ravel(), labels.items()):\n",
    "#     lbl['A549'].astype(int).hist(ax=axis, bins=2, alpha=0.5, rwidth=0.6)\n",
    "#     axis.set_title(f\"Classes count in {region} - thres = 1\", pad=20)\n",
    "#     plt.subplots_adjust(wspace = 0.9)\n",
    "#     axis.set_xticks([])\n",
    "#     axis.set_ylim(0, 83000)\n",
    "#     plt.savefig('.\\img\\class_count_1threa.jpg')\n",
    "    "
   ]
  },
  {
   "cell_type": "markdown",
   "id": "9edbf6ae",
   "metadata": {},
   "source": [
    "Labels of enhancers remain strongly unbalance, even with dropping. Almost all values of enhancers labels are 0 (third quartile is 0).\n",
    "\n",
    "I decided to set promoters threshold equal to 1 and don't drop values between 0 and 1 because this improve balance between classes but not enough to eliminate samples from the dataset. \n",
    "About enhancers the threshold is set to 0 because this leads classes to be as balanced as possible.\n",
    "\n",
    "I'm not focusing on the biological meaning of my choices, the threshold are chosen to obtain a dataset useful for learning. "
   ]
  },
  {
   "cell_type": "code",
   "execution_count": 204,
   "id": "4cb26777",
   "metadata": {},
   "outputs": [],
   "source": [
    "# enhancers, enhancers_labels = active_enhancers_vs_inactive_enhancers(cell_line='A549')\n",
    "# promoters, promoters_labels = active_promoters_vs_inactive_promoters(cell_line='A549')\n",
    "\n",
    "# labels = {\n",
    "#     \"promoters\": promoters_labels,\n",
    "#     \"enhancers\": enhancers_labels\n",
    "# }"
   ]
  },
  {
   "cell_type": "markdown",
   "id": "e2dc0e4a",
   "metadata": {},
   "source": [
    "#### enhancers"
   ]
  },
  {
   "cell_type": "code",
   "execution_count": 205,
   "id": "afb3444d",
   "metadata": {},
   "outputs": [],
   "source": [
    "# labels['enhancers'] = labels['enhancers'] > 0"
   ]
  },
  {
   "cell_type": "code",
   "execution_count": 206,
   "id": "ea6c654d",
   "metadata": {},
   "outputs": [],
   "source": [
    "# labels['enhancers'].mean()"
   ]
  },
  {
   "cell_type": "markdown",
   "id": "6022eefc",
   "metadata": {},
   "source": [
    "#### promoters"
   ]
  },
  {
   "cell_type": "code",
   "execution_count": 207,
   "id": "68802c34",
   "metadata": {},
   "outputs": [],
   "source": [
    "# labels['promoters'] = labels['promoters'] > 1"
   ]
  },
  {
   "cell_type": "code",
   "execution_count": 208,
   "id": "c6310ff2",
   "metadata": {},
   "outputs": [],
   "source": [
    "# labels['promoters'].mean()"
   ]
  },
  {
   "cell_type": "code",
   "execution_count": 209,
   "id": "226a1679",
   "metadata": {},
   "outputs": [],
   "source": [
    "# labels['promoters'].to_csv('./labels/labels_promoters.csv')  \n",
    "# labels['enhancers'].to_csv('./labels/labels_enhancers.csv')\n",
    "#"
   ]
  },
  {
   "cell_type": "code",
   "execution_count": 210,
   "id": "402833b1",
   "metadata": {},
   "outputs": [],
   "source": [
    "labels = {\n",
    "    \"promoters\": promoters_labels,\n",
    "    \"enhancers\": enhancers_labels\n",
    "}\n",
    "\n",
    "promoters_labels = pd.read_csv('./labels/labels_promoters.csv', index_col = [0,1,2,3])\n",
    "enhancers_labels = pd.read_csv('./labels/labels_enhancers.csv', index_col = [0,1,2,3])"
   ]
  },
  {
   "cell_type": "code",
   "execution_count": 214,
   "id": "f558f180",
   "metadata": {},
   "outputs": [
    {
     "data": {
      "text/plain": [
       "A549    0.003682\n",
       "dtype: float64"
      ]
     },
     "execution_count": 214,
     "metadata": {},
     "output_type": "execute_result"
    }
   ],
   "source": [
    "labels['enhancers'].mean()"
   ]
  },
  {
   "cell_type": "code",
   "execution_count": 133,
   "id": "e3471b3e",
   "metadata": {
    "scrolled": true
   },
   "outputs": [],
   "source": [
    "# epigenomes['promoters'].to_csv('./epigenomes_promoters.csv')  \n",
    "# e = pd.read_csv('./epigenomes_promoters.csv', index_col=[0,1,2,3])"
   ]
  },
  {
   "cell_type": "markdown",
   "id": "68f6e38d",
   "metadata": {},
   "source": [
    "## Pre-processing"
   ]
  },
  {
   "cell_type": "code",
   "execution_count": 151,
   "id": "2eb6c346",
   "metadata": {},
   "outputs": [
    {
     "data": {
      "text/html": [
       "<div>\n",
       "<style scoped>\n",
       "    .dataframe tbody tr th:only-of-type {\n",
       "        vertical-align: middle;\n",
       "    }\n",
       "\n",
       "    .dataframe tbody tr th {\n",
       "        vertical-align: top;\n",
       "    }\n",
       "\n",
       "    .dataframe thead th {\n",
       "        text-align: right;\n",
       "    }\n",
       "</style>\n",
       "<table border=\"1\" class=\"dataframe\">\n",
       "  <thead>\n",
       "    <tr style=\"text-align: right;\">\n",
       "      <th>chrom</th>\n",
       "      <th>PBX1</th>\n",
       "      <th>HOXB5</th>\n",
       "      <th>CTCF</th>\n",
       "      <th>NR5A2</th>\n",
       "      <th>POLR2AphosphoS2</th>\n",
       "      <th>FOSL2</th>\n",
       "      <th>CBX8</th>\n",
       "      <th>REST</th>\n",
       "      <th>ATAC-seq</th>\n",
       "      <th>JUN</th>\n",
       "      <th>...</th>\n",
       "      <th>EHF</th>\n",
       "      <th>HOXB13</th>\n",
       "      <th>DNase-seq</th>\n",
       "      <th>CEBPB</th>\n",
       "      <th>MYC</th>\n",
       "      <th>RFX5</th>\n",
       "      <th>CHD2</th>\n",
       "      <th>HOXA7</th>\n",
       "      <th>SIN3A</th>\n",
       "      <th>CHD4</th>\n",
       "    </tr>\n",
       "  </thead>\n",
       "  <tbody>\n",
       "    <tr>\n",
       "      <th>count</th>\n",
       "      <td>99881.000000</td>\n",
       "      <td>99881.000000</td>\n",
       "      <td>99881.000000</td>\n",
       "      <td>99881.000000</td>\n",
       "      <td>99881.000000</td>\n",
       "      <td>99881.000000</td>\n",
       "      <td>99881.000000</td>\n",
       "      <td>99881.000000</td>\n",
       "      <td>99881.000000</td>\n",
       "      <td>99881.000000</td>\n",
       "      <td>...</td>\n",
       "      <td>99881.000000</td>\n",
       "      <td>99881.000000</td>\n",
       "      <td>99881.000000</td>\n",
       "      <td>99881.000000</td>\n",
       "      <td>99881.000000</td>\n",
       "      <td>99881.000000</td>\n",
       "      <td>99881.000000</td>\n",
       "      <td>99881.000000</td>\n",
       "      <td>99881.000000</td>\n",
       "      <td>99881.000000</td>\n",
       "    </tr>\n",
       "    <tr>\n",
       "      <th>mean</th>\n",
       "      <td>1.536773</td>\n",
       "      <td>0.168275</td>\n",
       "      <td>1.575658</td>\n",
       "      <td>0.290672</td>\n",
       "      <td>0.353769</td>\n",
       "      <td>0.437788</td>\n",
       "      <td>0.186742</td>\n",
       "      <td>0.780543</td>\n",
       "      <td>0.315101</td>\n",
       "      <td>0.135798</td>\n",
       "      <td>...</td>\n",
       "      <td>0.138343</td>\n",
       "      <td>0.141287</td>\n",
       "      <td>0.902304</td>\n",
       "      <td>0.713310</td>\n",
       "      <td>0.346498</td>\n",
       "      <td>0.600878</td>\n",
       "      <td>0.699054</td>\n",
       "      <td>0.143109</td>\n",
       "      <td>0.398056</td>\n",
       "      <td>0.161995</td>\n",
       "    </tr>\n",
       "    <tr>\n",
       "      <th>std</th>\n",
       "      <td>10.763854</td>\n",
       "      <td>0.974695</td>\n",
       "      <td>6.179919</td>\n",
       "      <td>1.506537</td>\n",
       "      <td>1.534976</td>\n",
       "      <td>2.107531</td>\n",
       "      <td>1.140962</td>\n",
       "      <td>4.559255</td>\n",
       "      <td>0.720664</td>\n",
       "      <td>0.899671</td>\n",
       "      <td>...</td>\n",
       "      <td>0.883818</td>\n",
       "      <td>0.916923</td>\n",
       "      <td>2.060552</td>\n",
       "      <td>3.285159</td>\n",
       "      <td>1.091548</td>\n",
       "      <td>11.946283</td>\n",
       "      <td>4.201538</td>\n",
       "      <td>0.984015</td>\n",
       "      <td>0.956601</td>\n",
       "      <td>0.916624</td>\n",
       "    </tr>\n",
       "    <tr>\n",
       "      <th>min</th>\n",
       "      <td>-1.162162</td>\n",
       "      <td>-1.309859</td>\n",
       "      <td>-0.966667</td>\n",
       "      <td>-1.210526</td>\n",
       "      <td>-1.061728</td>\n",
       "      <td>-1.130952</td>\n",
       "      <td>-1.408163</td>\n",
       "      <td>-1.123457</td>\n",
       "      <td>-0.408526</td>\n",
       "      <td>-1.275510</td>\n",
       "      <td>...</td>\n",
       "      <td>-1.407407</td>\n",
       "      <td>-1.322034</td>\n",
       "      <td>-0.122222</td>\n",
       "      <td>-1.024096</td>\n",
       "      <td>-0.728916</td>\n",
       "      <td>-1.247059</td>\n",
       "      <td>-1.025862</td>\n",
       "      <td>-1.326531</td>\n",
       "      <td>-0.483180</td>\n",
       "      <td>-1.191176</td>\n",
       "    </tr>\n",
       "    <tr>\n",
       "      <th>25%</th>\n",
       "      <td>-0.418919</td>\n",
       "      <td>-0.436620</td>\n",
       "      <td>-0.344444</td>\n",
       "      <td>-0.421053</td>\n",
       "      <td>-0.407407</td>\n",
       "      <td>-0.404762</td>\n",
       "      <td>-0.448980</td>\n",
       "      <td>-0.407407</td>\n",
       "      <td>-0.255773</td>\n",
       "      <td>-0.448980</td>\n",
       "      <td>...</td>\n",
       "      <td>-0.444444</td>\n",
       "      <td>-0.457627</td>\n",
       "      <td>-0.094444</td>\n",
       "      <td>-0.397590</td>\n",
       "      <td>-0.331325</td>\n",
       "      <td>-0.447059</td>\n",
       "      <td>-0.387931</td>\n",
       "      <td>-0.448980</td>\n",
       "      <td>-0.235474</td>\n",
       "      <td>-0.441176</td>\n",
       "    </tr>\n",
       "    <tr>\n",
       "      <th>50%</th>\n",
       "      <td>0.000000</td>\n",
       "      <td>0.000000</td>\n",
       "      <td>0.000000</td>\n",
       "      <td>0.000000</td>\n",
       "      <td>0.000000</td>\n",
       "      <td>0.000000</td>\n",
       "      <td>0.000000</td>\n",
       "      <td>0.000000</td>\n",
       "      <td>0.000000</td>\n",
       "      <td>0.000000</td>\n",
       "      <td>...</td>\n",
       "      <td>0.000000</td>\n",
       "      <td>0.000000</td>\n",
       "      <td>0.000000</td>\n",
       "      <td>0.000000</td>\n",
       "      <td>0.000000</td>\n",
       "      <td>0.000000</td>\n",
       "      <td>0.000000</td>\n",
       "      <td>0.000000</td>\n",
       "      <td>0.000000</td>\n",
       "      <td>0.000000</td>\n",
       "    </tr>\n",
       "    <tr>\n",
       "      <th>75%</th>\n",
       "      <td>0.581081</td>\n",
       "      <td>0.563380</td>\n",
       "      <td>0.655556</td>\n",
       "      <td>0.578947</td>\n",
       "      <td>0.592593</td>\n",
       "      <td>0.595238</td>\n",
       "      <td>0.551020</td>\n",
       "      <td>0.592593</td>\n",
       "      <td>0.744227</td>\n",
       "      <td>0.551020</td>\n",
       "      <td>...</td>\n",
       "      <td>0.555556</td>\n",
       "      <td>0.542373</td>\n",
       "      <td>0.905556</td>\n",
       "      <td>0.602410</td>\n",
       "      <td>0.668675</td>\n",
       "      <td>0.552941</td>\n",
       "      <td>0.612069</td>\n",
       "      <td>0.551020</td>\n",
       "      <td>0.764526</td>\n",
       "      <td>0.558824</td>\n",
       "    </tr>\n",
       "    <tr>\n",
       "      <th>max</th>\n",
       "      <td>355.229730</td>\n",
       "      <td>60.816901</td>\n",
       "      <td>118.066667</td>\n",
       "      <td>55.118421</td>\n",
       "      <td>37.259259</td>\n",
       "      <td>62.285714</td>\n",
       "      <td>43.918367</td>\n",
       "      <td>118.716049</td>\n",
       "      <td>3.856128</td>\n",
       "      <td>31.153061</td>\n",
       "      <td>...</td>\n",
       "      <td>13.888889</td>\n",
       "      <td>18.915254</td>\n",
       "      <td>33.500000</td>\n",
       "      <td>84.216867</td>\n",
       "      <td>17.319277</td>\n",
       "      <td>859.623529</td>\n",
       "      <td>98.568966</td>\n",
       "      <td>44.816327</td>\n",
       "      <td>18.859327</td>\n",
       "      <td>19.588235</td>\n",
       "    </tr>\n",
       "  </tbody>\n",
       "</table>\n",
       "<p>8 rows × 44 columns</p>\n",
       "</div>"
      ],
      "text/plain": [
       "chrom          PBX1         HOXB5          CTCF         NR5A2  \\\n",
       "count  99881.000000  99881.000000  99881.000000  99881.000000   \n",
       "mean       1.536773      0.168275      1.575658      0.290672   \n",
       "std       10.763854      0.974695      6.179919      1.506537   \n",
       "min       -1.162162     -1.309859     -0.966667     -1.210526   \n",
       "25%       -0.418919     -0.436620     -0.344444     -0.421053   \n",
       "50%        0.000000      0.000000      0.000000      0.000000   \n",
       "75%        0.581081      0.563380      0.655556      0.578947   \n",
       "max      355.229730     60.816901    118.066667     55.118421   \n",
       "\n",
       "chrom  POLR2AphosphoS2         FOSL2          CBX8          REST  \\\n",
       "count     99881.000000  99881.000000  99881.000000  99881.000000   \n",
       "mean          0.353769      0.437788      0.186742      0.780543   \n",
       "std           1.534976      2.107531      1.140962      4.559255   \n",
       "min          -1.061728     -1.130952     -1.408163     -1.123457   \n",
       "25%          -0.407407     -0.404762     -0.448980     -0.407407   \n",
       "50%           0.000000      0.000000      0.000000      0.000000   \n",
       "75%           0.592593      0.595238      0.551020      0.592593   \n",
       "max          37.259259     62.285714     43.918367    118.716049   \n",
       "\n",
       "chrom      ATAC-seq           JUN  ...           EHF        HOXB13  \\\n",
       "count  99881.000000  99881.000000  ...  99881.000000  99881.000000   \n",
       "mean       0.315101      0.135798  ...      0.138343      0.141287   \n",
       "std        0.720664      0.899671  ...      0.883818      0.916923   \n",
       "min       -0.408526     -1.275510  ...     -1.407407     -1.322034   \n",
       "25%       -0.255773     -0.448980  ...     -0.444444     -0.457627   \n",
       "50%        0.000000      0.000000  ...      0.000000      0.000000   \n",
       "75%        0.744227      0.551020  ...      0.555556      0.542373   \n",
       "max        3.856128     31.153061  ...     13.888889     18.915254   \n",
       "\n",
       "chrom     DNase-seq         CEBPB           MYC          RFX5          CHD2  \\\n",
       "count  99881.000000  99881.000000  99881.000000  99881.000000  99881.000000   \n",
       "mean       0.902304      0.713310      0.346498      0.600878      0.699054   \n",
       "std        2.060552      3.285159      1.091548     11.946283      4.201538   \n",
       "min       -0.122222     -1.024096     -0.728916     -1.247059     -1.025862   \n",
       "25%       -0.094444     -0.397590     -0.331325     -0.447059     -0.387931   \n",
       "50%        0.000000      0.000000      0.000000      0.000000      0.000000   \n",
       "75%        0.905556      0.602410      0.668675      0.552941      0.612069   \n",
       "max       33.500000     84.216867     17.319277    859.623529     98.568966   \n",
       "\n",
       "chrom         HOXA7         SIN3A          CHD4  \n",
       "count  99881.000000  99881.000000  99881.000000  \n",
       "mean       0.143109      0.398056      0.161995  \n",
       "std        0.984015      0.956601      0.916624  \n",
       "min       -1.326531     -0.483180     -1.191176  \n",
       "25%       -0.448980     -0.235474     -0.441176  \n",
       "50%        0.000000      0.000000      0.000000  \n",
       "75%        0.551020      0.764526      0.558824  \n",
       "max       44.816327     18.859327     19.588235  \n",
       "\n",
       "[8 rows x 44 columns]"
      ]
     },
     "execution_count": 151,
     "metadata": {},
     "output_type": "execute_result"
    }
   ],
   "source": [
    "epigenomes['promoters'].describe()"
   ]
  },
  {
   "cell_type": "code",
   "execution_count": 25,
   "id": "4b759692",
   "metadata": {},
   "outputs": [
    {
     "name": "stdout",
     "output_type": "stream",
     "text": [
      "The rate between samples and features for promoters data is: 2080.8541666666665\n",
      "--------------------------------------------------------------------------------\n",
      "The rate between samples and features for enhancers data is: 1318.4375\n",
      "--------------------------------------------------------------------------------\n"
     ]
    }
   ],
   "source": [
    "pre_pro.rate_samples_features(epigenomes)"
   ]
  },
  {
   "cell_type": "code",
   "execution_count": 26,
   "id": "4d4aa6c2",
   "metadata": {},
   "outputs": [
    {
     "name": "stdout",
     "output_type": "stream",
     "text": [
      "Nan values report for promoters data:\n",
      "\n",
      "- In the document there are 372 NaN values out of 4794288 values.\n",
      "  % nan/totale = 0.007759233487850542.\n",
      "- The sample (row) with most values has 2 NaN values out of 48 values.\n",
      "- The feature (column) with most values has 189 NaN values out of 99881 values.\n",
      "- % nan_col_values/tot_samples = 0.18922517796177452\n",
      "--------------------------------------------------------------------------------\n",
      "Nan values report for enhancers data:\n",
      "\n",
      "- In the document there are 32 NaN values out of 3037680 values.\n",
      "  % nan/totale = 0.0010534355165784414.\n",
      "- The sample (row) with most values has 1 NaN values out of 48 values.\n",
      "- The feature (column) with most values has 32 NaN values out of 63285 values.\n",
      "- % nan_col_values/tot_samples = 0.05056490479576519\n",
      "--------------------------------------------------------------------------------\n"
     ]
    }
   ],
   "source": [
    "# NaN values\n",
    "\n",
    "for region, x in epigenomes.items():\n",
    "    print(\"\\n\".join((\n",
    "        f\"Nan values report for {region} data:\\n\",\n",
    "        f\"- In the document there are {x.isna().values.sum()} NaN values out of {x.values.size} values.\",\n",
    "        f\"  % nan/totale = {x.isna().values.sum()/x.values.size*100}.\",\n",
    "        f\"- The sample (row) with most values has {x.isna().sum(axis=1).max()} NaN values out of {x.shape[1]} values.\",\n",
    "        f\"- The feature (column) with most values has {x.isna().sum().max()} NaN values out of {x.shape[0]} values.\",\n",
    "        f\"- % nan_col_values/tot_samples = {x.isna().sum().max()/x.shape[0]*100}\"\n",
    "    )))\n",
    "    print(\"-\"*80)"
   ]
  },
  {
   "cell_type": "code",
   "execution_count": 27,
   "id": "6442c80a",
   "metadata": {},
   "outputs": [],
   "source": [
    "# I valori NaN vengono sostituiti tramite KNN\n",
    "\n",
    "for region, x in epigenomes.items():\n",
    "    epigenomes[region] = pre_pro.knn_imputer(x)"
   ]
  },
  {
   "cell_type": "markdown",
   "id": "6b98997e",
   "metadata": {},
   "source": [
    "#### Eliminazione features costanti"
   ]
  },
  {
   "cell_type": "code",
   "execution_count": 28,
   "id": "31363211",
   "metadata": {},
   "outputs": [
    {
     "name": "stdout",
     "output_type": "stream",
     "text": [
      "No constant features were found in promoters!\n",
      "No constant features were found in enhancers!\n"
     ]
    }
   ],
   "source": [
    "for region, x in epigenomes.items():\n",
    "    result = pre_pro.drop_constant_features(x)\n",
    "    if x.shape[1] != result.shape[1]:\n",
    "        print(f\"Features in {region} were constant and had to be dropped!\")\n",
    "        epigenomes[region] = result\n",
    "    else:\n",
    "        print(f\"No constant features were found in {region}!\")"
   ]
  },
  {
   "cell_type": "markdown",
   "id": "4ab5630d",
   "metadata": {},
   "source": [
    "#### Normalizzazione\n",
    "\n",
    "Usiamo robust_scaler (sottraendo la mediana, non sensibile agli outlier, e dividendo per la sd tra il primo e il terzo quartile, è una versione migliore di z-scoring "
   ]
  },
  {
   "cell_type": "code",
   "execution_count": 29,
   "id": "8421bdfc",
   "metadata": {},
   "outputs": [],
   "source": [
    "epigenomes = {\n",
    "    region: pre_pro.robust_zscoring(x)\n",
    "    for region, x in epigenomes.items()\n",
    "}"
   ]
  },
  {
   "cell_type": "markdown",
   "id": "a0bddac1",
   "metadata": {},
   "source": [
    "## Correlazione con l'output\n",
    "\n",
    "\n",
    "se le features non hanno nessun tipo di correlazione con l'output, possiamo pensare di eliminarle"
   ]
  },
  {
   "cell_type": "code",
   "execution_count": 30,
   "id": "09802d26",
   "metadata": {},
   "outputs": [],
   "source": [
    "p_value_threshold = 0.01 \n",
    "\n",
    "# salvo le features non correlate all'interno del dict uncorrelated\n",
    "uncorrelated = {\n",
    "    region: set()\n",
    "    for region in epigenomes\n",
    "}"
   ]
  },
  {
   "cell_type": "markdown",
   "id": "43c10a62",
   "metadata": {},
   "source": [
    "#### Correlazione lineare di Pearson"
   ]
  },
  {
   "cell_type": "code",
   "execution_count": 31,
   "id": "8bdb5490",
   "metadata": {},
   "outputs": [
    {
     "name": "stdout",
     "output_type": "stream",
     "text": [
      "\n",
      "Calcolo coefficiente di Pearson per promoters:\n",
      "\n",
      "La feature EHMT2 non è correlata in modo significativo con l'output, corr: -0.0013886359156064518\n",
      "La feature FOSB non è correlata in modo significativo con l'output, corr: 0.0003267735569409949\n",
      "La feature RNF2 non è correlata in modo significativo con l'output, corr: -0.0001342230492837812\n",
      "\n",
      "Calcolo coefficiente di Pearson per enhancers:\n",
      "\n",
      "La feature ZC3H11A non è correlata in modo significativo con l'output, corr: 0.008187547698984075\n",
      "La feature CBX2 non è correlata in modo significativo con l'output, corr: -0.0038494378820642236\n"
     ]
    }
   ],
   "source": [
    "corr.output_correlation('pearson', epigenomes, p_value_threshold, uncorrelated, labels)"
   ]
  },
  {
   "cell_type": "markdown",
   "id": "aab6f80f",
   "metadata": {},
   "source": [
    "#### Correlazione monotona di Spearman"
   ]
  },
  {
   "cell_type": "code",
   "execution_count": 32,
   "id": "401a9492",
   "metadata": {},
   "outputs": [
    {
     "name": "stdout",
     "output_type": "stream",
     "text": [
      "\n",
      "Calcolo coefficiente di Pearson per promoters:\n",
      "\n",
      "La feature ZFP36 non è correlata in modo significativo con l'output, corr: 0.005138431133429463\n",
      "\n",
      "Calcolo coefficiente di Pearson per enhancers:\n",
      "\n",
      "La feature CBX2 non è correlata in modo significativo con l'output, corr: -0.0011931716306596745\n",
      "La feature KDM5A non è correlata in modo significativo con l'output, corr: -0.003784426428309876\n"
     ]
    }
   ],
   "source": [
    "corr.output_correlation('spearman', epigenomes, p_value_threshold, uncorrelated, labels)"
   ]
  },
  {
   "cell_type": "code",
   "execution_count": 33,
   "id": "79eefed5",
   "metadata": {},
   "outputs": [],
   "source": [
    "# minepy per Windows non vabbene"
   ]
  },
  {
   "cell_type": "markdown",
   "id": "237b8a43",
   "metadata": {},
   "source": [
    "#### Elimino features non correlate con l'output"
   ]
  },
  {
   "cell_type": "code",
   "execution_count": 34,
   "id": "dda7de51",
   "metadata": {},
   "outputs": [],
   "source": [
    "for region, x in epigenomes.items():\n",
    "    epigenomes[region] =x.drop(columns=[\n",
    "        col\n",
    "        for col in uncorrelated[region]\n",
    "        if col in x.columns\n",
    "    ])"
   ]
  },
  {
   "cell_type": "markdown",
   "id": "160c8945",
   "metadata": {},
   "source": [
    "## Features correlation\n",
    "\n",
    "\n",
    "se le features non hanno nessun tipo di correlazione con l'output, possiamo pensare di eliminarle"
   ]
  },
  {
   "cell_type": "code",
   "execution_count": 35,
   "id": "d5fc1e0e",
   "metadata": {},
   "outputs": [],
   "source": [
    "correlation_threshold = 0.95\n",
    "\n",
    "extremely_correlated = {\n",
    "    region: set()\n",
    "    for region in epigenomes\n",
    "}\n",
    "\n",
    "scores = {\n",
    "    region: []\n",
    "    for region in epigenomes\n",
    "}"
   ]
  },
  {
   "cell_type": "markdown",
   "id": "e482f2ea",
   "metadata": {},
   "source": [
    "#### Correlazione lineare di Pearson"
   ]
  },
  {
   "cell_type": "code",
   "execution_count": 36,
   "id": "bc15593a",
   "metadata": {},
   "outputs": [
    {
     "data": {
      "application/vnd.jupyter.widget-view+json": {
       "model_id": "",
       "version_major": 2,
       "version_minor": 0
      },
      "text/plain": [
       "Running Pearson test for promoters:   0%|                                                       | 0/44 [00:00<…"
      ]
     },
     "metadata": {},
     "output_type": "display_data"
    },
    {
     "data": {
      "application/vnd.jupyter.widget-view+json": {
       "model_id": "",
       "version_major": 2,
       "version_minor": 0
      },
      "text/plain": [
       "Running Pearson test for enhancers:   0%|                                                       | 0/45 [00:00<…"
      ]
     },
     "metadata": {},
     "output_type": "display_data"
    }
   ],
   "source": [
    "corr.features_correlation(\n",
    "    'pearson', epigenomes, p_value_threshold, correlation_threshold, extremely_correlated, scores)"
   ]
  },
  {
   "cell_type": "markdown",
   "id": "9851e2e6",
   "metadata": {},
   "source": [
    "#### Correlazione monotona di Spearman"
   ]
  },
  {
   "cell_type": "code",
   "execution_count": 37,
   "id": "bd8d57dc",
   "metadata": {},
   "outputs": [
    {
     "data": {
      "application/vnd.jupyter.widget-view+json": {
       "model_id": "",
       "version_major": 2,
       "version_minor": 0
      },
      "text/plain": [
       "Running Pearson test for promoters:   0%|                                                       | 0/44 [00:00<…"
      ]
     },
     "metadata": {},
     "output_type": "display_data"
    },
    {
     "data": {
      "application/vnd.jupyter.widget-view+json": {
       "model_id": "",
       "version_major": 2,
       "version_minor": 0
      },
      "text/plain": [
       "Running Pearson test for enhancers:   0%|                                                       | 0/45 [00:00<…"
      ]
     },
     "metadata": {},
     "output_type": "display_data"
    }
   ],
   "source": [
    "corr.features_correlation(\n",
    "    'spearman', epigenomes, p_value_threshold, correlation_threshold, extremely_correlated, scores)"
   ]
  },
  {
   "cell_type": "code",
   "execution_count": 38,
   "id": "8a12e1ed",
   "metadata": {},
   "outputs": [
    {
     "data": {
      "text/plain": [
       "{'promoters': set(), 'enhancers': set()}"
      ]
     },
     "execution_count": 38,
     "metadata": {},
     "output_type": "execute_result"
    }
   ],
   "source": [
    "# non ci sono features altamente correlate\n",
    "extremely_correlated"
   ]
  },
  {
   "cell_type": "markdown",
   "id": "fc300d9e",
   "metadata": {},
   "source": [
    "## Feature selection with Boruta"
   ]
  },
  {
   "cell_type": "code",
   "execution_count": 84,
   "id": "c2abb0a3",
   "metadata": {},
   "outputs": [],
   "source": [
    "from sklearn.ensemble import RandomForestClassifier, RandomForestRegressor\n",
    "from boruta import BorutaPy\n",
    "from multiprocessing import cpu_count\n",
    "import pandas as pd\n",
    "\n",
    "def execute_boruta_feature_selection(\n",
    "    X_train: pd.DataFrame,\n",
    "    y_train: np.ndarray,\n",
    "    regression: bool,\n",
    "    max_iter: int = 100\n",
    "):\n",
    "    \n",
    "    boruta_selector = BorutaPy(\n",
    "        RandomForestClassifier(\n",
    "            n_jobs=cpu_count(), class_weight='balanced', max_depth=5),\n",
    "        n_estimators='auto',\n",
    "        verbose=False,\n",
    "        alpha=0.05,\n",
    "        max_iter=max_iter, \n",
    "        random_state=42,\n",
    "    )\n",
    "\n",
    "    boruta_selector.fit(X_train.values, y_train.values.ravel())\n",
    "    \n",
    "    kept_features = list(X_train.columns[boruta_selector.support_])\n",
    "    discarded_features = list(X_train.columns[~boruta_selector.support_])\n",
    "\n",
    "    return kept_features, discarded_features"
   ]
  },
  {
   "cell_type": "code",
   "execution_count": 85,
   "id": "95bd25a2",
   "metadata": {
    "scrolled": true
   },
   "outputs": [
    {
     "data": {
      "text/plain": [
       "[]"
      ]
     },
     "execution_count": 85,
     "metadata": {},
     "output_type": "execute_result"
    }
   ],
   "source": [
    " execute_boruta_feature_selection(\n",
    "     X_train = epigenomes['promoters'],\n",
    "     y_train = d['A549'], \n",
    "     regression = False)"
   ]
  },
  {
   "cell_type": "markdown",
   "id": "af9577ea",
   "metadata": {},
   "source": [
    "#### Visualization of the features"
   ]
  },
  {
   "cell_type": "code",
   "execution_count": 39,
   "id": "6fc156da",
   "metadata": {},
   "outputs": [],
   "source": [
    "# Ordine le correlazioni in modo decrescente\n",
    "scores = {\n",
    "    region:sorted(score, key=lambda x: np.abs(x[0]), reverse=True)\n",
    "    for region, score in scores.items()\n",
    "}"
   ]
  },
  {
   "cell_type": "code",
   "execution_count": 40,
   "id": "bc68cd61",
   "metadata": {},
   "outputs": [],
   "source": [
    "import seaborn as sns\n",
    "import pandas as pd\n",
    "\n",
    "for region, x in epigenomes.items():\n",
    "    _, firsts, seconds = list(zip(*scores[region][:3]))\n",
    "    columns = list(set(firsts+seconds))\n",
    "    print(f\"Most correlated features from {region} epigenomes\")\n",
    "    pairplot = sns.pairplot(pd.concat([\n",
    "        x[columns],\n",
    "        labels[region],\n",
    "    ], axis=1), hue=labels[region].columns[0], palette = 'CMRmap_r')\n",
    "    plt.show()\n",
    "    \n",
    "    fig = pairplot.fig\n",
    "    fig.savefig(f\"./img/less_correlated_features_{region}.png\")"
   ]
  }
 ],
 "metadata": {
  "kernelspec": {
   "display_name": "Python 3 (ipykernel)",
   "language": "python",
   "name": "python3"
  },
  "language_info": {
   "codemirror_mode": {
    "name": "ipython",
    "version": 3
   },
   "file_extension": ".py",
   "mimetype": "text/x-python",
   "name": "python",
   "nbconvert_exporter": "python",
   "pygments_lexer": "ipython3",
   "version": "3.9.7"
  }
 },
 "nbformat": 4,
 "nbformat_minor": 5
}
