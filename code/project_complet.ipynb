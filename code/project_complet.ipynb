{
 "cells": [
  {
   "cell_type": "code",
   "execution_count": 32,
   "id": "1758bef9",
   "metadata": {},
   "outputs": [],
   "source": [
    "import matplotlib.pyplot as plt\n",
    "import numpy as np\n",
    "\n",
    "import pre_processing as pre_pro\n",
    "import correlations as corr"
   ]
  },
  {
   "cell_type": "markdown",
   "id": "10471829",
   "metadata": {},
   "source": [
    "## Retrieving data"
   ]
  },
  {
   "cell_type": "code",
   "execution_count": 2,
   "id": "b6ef5d41",
   "metadata": {},
   "outputs": [],
   "source": [
    "from epigenomic_dataset import active_enhancers_vs_inactive_enhancers\n",
    "from epigenomic_dataset import active_promoters_vs_inactive_promoters"
   ]
  },
  {
   "cell_type": "code",
   "execution_count": 62,
   "id": "f43a99e6",
   "metadata": {},
   "outputs": [],
   "source": [
    "enhancers, enhancers_labels = active_enhancers_vs_inactive_enhancers(cell_line='A549')\n",
    "promoters, promoters_labels = active_promoters_vs_inactive_promoters(cell_line='A549')\n",
    "\n",
    "epigenomes = {\n",
    "    \"promoters\": promoters,\n",
    "    \"enhancers\": enhancers\n",
    "}\n",
    "\n",
    "labels = {\n",
    "    \"promoters\": promoters_labels,\n",
    "    \"enhancers\": enhancers_labels\n",
    "}"
   ]
  },
  {
   "cell_type": "code",
   "execution_count": 63,
   "id": "ffe65c13",
   "metadata": {},
   "outputs": [
    {
     "data": {
      "text/html": [
       "<div>\n",
       "<style scoped>\n",
       "    .dataframe tbody tr th:only-of-type {\n",
       "        vertical-align: middle;\n",
       "    }\n",
       "\n",
       "    .dataframe tbody tr th {\n",
       "        vertical-align: top;\n",
       "    }\n",
       "\n",
       "    .dataframe thead th {\n",
       "        text-align: right;\n",
       "    }\n",
       "</style>\n",
       "<table border=\"1\" class=\"dataframe\">\n",
       "  <thead>\n",
       "    <tr style=\"text-align: right;\">\n",
       "      <th>chrom</th>\n",
       "      <th>PBX1</th>\n",
       "      <th>HOXB5</th>\n",
       "      <th>CTCF</th>\n",
       "      <th>NR5A2</th>\n",
       "      <th>POLR2AphosphoS2</th>\n",
       "      <th>FOSL2</th>\n",
       "      <th>CBX8</th>\n",
       "      <th>REST</th>\n",
       "      <th>ATAC-seq</th>\n",
       "      <th>JUN</th>\n",
       "      <th>...</th>\n",
       "      <th>HOXB13</th>\n",
       "      <th>DNase-seq</th>\n",
       "      <th>CEBPB</th>\n",
       "      <th>RNF2</th>\n",
       "      <th>MYC</th>\n",
       "      <th>RFX5</th>\n",
       "      <th>CHD2</th>\n",
       "      <th>HOXA7</th>\n",
       "      <th>SIN3A</th>\n",
       "      <th>CHD4</th>\n",
       "    </tr>\n",
       "  </thead>\n",
       "  <tbody>\n",
       "    <tr>\n",
       "      <th>count</th>\n",
       "      <td>63285.000000</td>\n",
       "      <td>63285.000000</td>\n",
       "      <td>63285.000000</td>\n",
       "      <td>63285.000000</td>\n",
       "      <td>63285.000000</td>\n",
       "      <td>63285.000000</td>\n",
       "      <td>63285.000000</td>\n",
       "      <td>63285.000000</td>\n",
       "      <td>63285.000000</td>\n",
       "      <td>63285.000000</td>\n",
       "      <td>...</td>\n",
       "      <td>63285.000000</td>\n",
       "      <td>63285.000000</td>\n",
       "      <td>63285.000000</td>\n",
       "      <td>63285.000000</td>\n",
       "      <td>63285.000000</td>\n",
       "      <td>63285.000000</td>\n",
       "      <td>63285.000000</td>\n",
       "      <td>63285.000000</td>\n",
       "      <td>63285.000000</td>\n",
       "      <td>63285.000000</td>\n",
       "    </tr>\n",
       "    <tr>\n",
       "      <th>mean</th>\n",
       "      <td>0.958972</td>\n",
       "      <td>0.913036</td>\n",
       "      <td>1.209956</td>\n",
       "      <td>0.973173</td>\n",
       "      <td>0.913585</td>\n",
       "      <td>1.649383</td>\n",
       "      <td>0.784756</td>\n",
       "      <td>0.824127</td>\n",
       "      <td>1.559501</td>\n",
       "      <td>1.128004</td>\n",
       "      <td>...</td>\n",
       "      <td>0.867849</td>\n",
       "      <td>0.409369</td>\n",
       "      <td>1.555871</td>\n",
       "      <td>0.840282</td>\n",
       "      <td>0.963023</td>\n",
       "      <td>0.993750</td>\n",
       "      <td>0.985979</td>\n",
       "      <td>0.778543</td>\n",
       "      <td>1.118602</td>\n",
       "      <td>0.892104</td>\n",
       "    </tr>\n",
       "    <tr>\n",
       "      <th>std</th>\n",
       "      <td>1.682574</td>\n",
       "      <td>0.653761</td>\n",
       "      <td>3.790173</td>\n",
       "      <td>0.968981</td>\n",
       "      <td>0.872721</td>\n",
       "      <td>3.299778</td>\n",
       "      <td>0.406876</td>\n",
       "      <td>0.907664</td>\n",
       "      <td>2.136066</td>\n",
       "      <td>0.744430</td>\n",
       "      <td>...</td>\n",
       "      <td>0.558791</td>\n",
       "      <td>1.452805</td>\n",
       "      <td>3.320334</td>\n",
       "      <td>0.715002</td>\n",
       "      <td>0.789865</td>\n",
       "      <td>4.592618</td>\n",
       "      <td>0.828565</td>\n",
       "      <td>0.447260</td>\n",
       "      <td>0.986635</td>\n",
       "      <td>0.520470</td>\n",
       "    </tr>\n",
       "    <tr>\n",
       "      <th>min</th>\n",
       "      <td>0.000000</td>\n",
       "      <td>0.000000</td>\n",
       "      <td>0.000000</td>\n",
       "      <td>0.000000</td>\n",
       "      <td>0.000000</td>\n",
       "      <td>0.000000</td>\n",
       "      <td>0.000000</td>\n",
       "      <td>0.000000</td>\n",
       "      <td>0.000000</td>\n",
       "      <td>0.000000</td>\n",
       "      <td>...</td>\n",
       "      <td>0.000000</td>\n",
       "      <td>0.000000</td>\n",
       "      <td>0.000000</td>\n",
       "      <td>0.000000</td>\n",
       "      <td>0.000000</td>\n",
       "      <td>0.000000</td>\n",
       "      <td>0.000000</td>\n",
       "      <td>0.000000</td>\n",
       "      <td>0.000000</td>\n",
       "      <td>0.000000</td>\n",
       "    </tr>\n",
       "    <tr>\n",
       "      <th>25%</th>\n",
       "      <td>0.480000</td>\n",
       "      <td>0.520000</td>\n",
       "      <td>0.420000</td>\n",
       "      <td>0.530000</td>\n",
       "      <td>0.460000</td>\n",
       "      <td>0.520000</td>\n",
       "      <td>0.540000</td>\n",
       "      <td>0.540000</td>\n",
       "      <td>0.470000</td>\n",
       "      <td>0.640000</td>\n",
       "      <td>...</td>\n",
       "      <td>0.510000</td>\n",
       "      <td>0.030000</td>\n",
       "      <td>0.460000</td>\n",
       "      <td>0.440000</td>\n",
       "      <td>0.500000</td>\n",
       "      <td>0.610000</td>\n",
       "      <td>0.590000</td>\n",
       "      <td>0.500000</td>\n",
       "      <td>0.610000</td>\n",
       "      <td>0.550000</td>\n",
       "    </tr>\n",
       "    <tr>\n",
       "      <th>50%</th>\n",
       "      <td>0.750000</td>\n",
       "      <td>0.800000</td>\n",
       "      <td>0.630000</td>\n",
       "      <td>0.790000</td>\n",
       "      <td>0.740000</td>\n",
       "      <td>0.810000</td>\n",
       "      <td>0.730000</td>\n",
       "      <td>0.750000</td>\n",
       "      <td>0.820000</td>\n",
       "      <td>1.010000</td>\n",
       "      <td>...</td>\n",
       "      <td>0.780000</td>\n",
       "      <td>0.060000</td>\n",
       "      <td>0.790000</td>\n",
       "      <td>0.720000</td>\n",
       "      <td>0.800000</td>\n",
       "      <td>0.860000</td>\n",
       "      <td>0.890000</td>\n",
       "      <td>0.710000</td>\n",
       "      <td>0.890000</td>\n",
       "      <td>0.810000</td>\n",
       "    </tr>\n",
       "    <tr>\n",
       "      <th>75%</th>\n",
       "      <td>1.100000</td>\n",
       "      <td>1.150000</td>\n",
       "      <td>0.900000</td>\n",
       "      <td>1.140000</td>\n",
       "      <td>1.120000</td>\n",
       "      <td>1.290000</td>\n",
       "      <td>0.960000</td>\n",
       "      <td>0.990000</td>\n",
       "      <td>1.530000</td>\n",
       "      <td>1.470000</td>\n",
       "      <td>...</td>\n",
       "      <td>1.100000</td>\n",
       "      <td>0.150000</td>\n",
       "      <td>1.320000</td>\n",
       "      <td>1.070000</td>\n",
       "      <td>1.200000</td>\n",
       "      <td>1.160000</td>\n",
       "      <td>1.250000</td>\n",
       "      <td>0.980000</td>\n",
       "      <td>1.280000</td>\n",
       "      <td>1.130000</td>\n",
       "    </tr>\n",
       "    <tr>\n",
       "      <th>max</th>\n",
       "      <td>165.590000</td>\n",
       "      <td>36.510000</td>\n",
       "      <td>101.000000</td>\n",
       "      <td>42.330000</td>\n",
       "      <td>32.560000</td>\n",
       "      <td>82.550000</td>\n",
       "      <td>16.220000</td>\n",
       "      <td>53.750000</td>\n",
       "      <td>20.270000</td>\n",
       "      <td>32.950000</td>\n",
       "      <td>...</td>\n",
       "      <td>13.710000</td>\n",
       "      <td>38.710000</td>\n",
       "      <td>94.530000</td>\n",
       "      <td>31.490000</td>\n",
       "      <td>21.020000</td>\n",
       "      <td>543.970000</td>\n",
       "      <td>81.120000</td>\n",
       "      <td>15.450000</td>\n",
       "      <td>31.220000</td>\n",
       "      <td>11.940000</td>\n",
       "    </tr>\n",
       "  </tbody>\n",
       "</table>\n",
       "<p>8 rows × 48 columns</p>\n",
       "</div>"
      ],
      "text/plain": [
       "chrom          PBX1         HOXB5          CTCF         NR5A2  \\\n",
       "count  63285.000000  63285.000000  63285.000000  63285.000000   \n",
       "mean       0.958972      0.913036      1.209956      0.973173   \n",
       "std        1.682574      0.653761      3.790173      0.968981   \n",
       "min        0.000000      0.000000      0.000000      0.000000   \n",
       "25%        0.480000      0.520000      0.420000      0.530000   \n",
       "50%        0.750000      0.800000      0.630000      0.790000   \n",
       "75%        1.100000      1.150000      0.900000      1.140000   \n",
       "max      165.590000     36.510000    101.000000     42.330000   \n",
       "\n",
       "chrom  POLR2AphosphoS2         FOSL2          CBX8          REST  \\\n",
       "count     63285.000000  63285.000000  63285.000000  63285.000000   \n",
       "mean          0.913585      1.649383      0.784756      0.824127   \n",
       "std           0.872721      3.299778      0.406876      0.907664   \n",
       "min           0.000000      0.000000      0.000000      0.000000   \n",
       "25%           0.460000      0.520000      0.540000      0.540000   \n",
       "50%           0.740000      0.810000      0.730000      0.750000   \n",
       "75%           1.120000      1.290000      0.960000      0.990000   \n",
       "max          32.560000     82.550000     16.220000     53.750000   \n",
       "\n",
       "chrom      ATAC-seq           JUN  ...        HOXB13     DNase-seq  \\\n",
       "count  63285.000000  63285.000000  ...  63285.000000  63285.000000   \n",
       "mean       1.559501      1.128004  ...      0.867849      0.409369   \n",
       "std        2.136066      0.744430  ...      0.558791      1.452805   \n",
       "min        0.000000      0.000000  ...      0.000000      0.000000   \n",
       "25%        0.470000      0.640000  ...      0.510000      0.030000   \n",
       "50%        0.820000      1.010000  ...      0.780000      0.060000   \n",
       "75%        1.530000      1.470000  ...      1.100000      0.150000   \n",
       "max       20.270000     32.950000  ...     13.710000     38.710000   \n",
       "\n",
       "chrom         CEBPB          RNF2           MYC          RFX5          CHD2  \\\n",
       "count  63285.000000  63285.000000  63285.000000  63285.000000  63285.000000   \n",
       "mean       1.555871      0.840282      0.963023      0.993750      0.985979   \n",
       "std        3.320334      0.715002      0.789865      4.592618      0.828565   \n",
       "min        0.000000      0.000000      0.000000      0.000000      0.000000   \n",
       "25%        0.460000      0.440000      0.500000      0.610000      0.590000   \n",
       "50%        0.790000      0.720000      0.800000      0.860000      0.890000   \n",
       "75%        1.320000      1.070000      1.200000      1.160000      1.250000   \n",
       "max       94.530000     31.490000     21.020000    543.970000     81.120000   \n",
       "\n",
       "chrom         HOXA7         SIN3A          CHD4  \n",
       "count  63285.000000  63285.000000  63285.000000  \n",
       "mean       0.778543      1.118602      0.892104  \n",
       "std        0.447260      0.986635      0.520470  \n",
       "min        0.000000      0.000000      0.000000  \n",
       "25%        0.500000      0.610000      0.550000  \n",
       "50%        0.710000      0.890000      0.810000  \n",
       "75%        0.980000      1.280000      1.130000  \n",
       "max       15.450000     31.220000     11.940000  \n",
       "\n",
       "[8 rows x 48 columns]"
      ]
     },
     "execution_count": 63,
     "metadata": {},
     "output_type": "execute_result"
    }
   ],
   "source": [
    "enhancers.describe()"
   ]
  },
  {
   "cell_type": "markdown",
   "id": "f83fd07a",
   "metadata": {},
   "source": [
    "## Labels"
   ]
  },
  {
   "cell_type": "markdown",
   "id": "a91bb681",
   "metadata": {},
   "source": [
    "### Sbilanciamento delle classi"
   ]
  },
  {
   "cell_type": "markdown",
   "id": "ae33d0a5",
   "metadata": {},
   "source": [
    "In the following cell we show the histograms of the TPMs for the two considered cis-regulatory regions.\n",
    "\n",
    "In both cases, most of the samples are very close to 0, but the range of the two datasets samples is extremely different: while in the enhancers most values fall within a bin from 0 to 20, the promoters fall within a bin from 0 to 5000. The clear presence of outliers in both datasets will make it necessary, in the context of the regression task, to clip the outliers values to a given maximal value."
   ]
  },
  {
   "cell_type": "code",
   "execution_count": 71,
   "id": "79ef0d7d",
   "metadata": {},
   "outputs": [
    {
     "data": {
      "image/png": "[encoded data removed]",
      "text/plain": [
       "<Figure size 720x360 with 2 Axes>"
      ]
     },
     "metadata": {
      "needs_background": "light"
     },
     "output_type": "display_data"
    }
   ],
   "source": [
    "bins = 100\n",
    "fig, axes = plt.subplots(ncols=len(labels), figsize=(10, 5))\n",
    "\n",
    "for axis, (region, lbl) in zip(axes, labels.items()):\n",
    "    lbl.hist(ax = axis, bins = bins, log = True)\n",
    "    axis.set_title('Labels in ' + region)"
   ]
  },
  {
   "cell_type": "code",
   "execution_count": 104,
   "id": "52286bff",
   "metadata": {
    "collapsed": true
   },
   "outputs": [
    {
     "name": "stdout",
     "output_type": "stream",
     "text": [
      "               A549\n",
      "count  99881.000000\n",
      "mean       4.989571\n",
      "std       68.457689\n",
      "min        0.000000\n",
      "25%        0.000000\n",
      "50%        0.000000\n",
      "75%        0.553579\n",
      "max    11402.760776\n",
      "--------------------\n",
      "               A549\n",
      "count  63285.000000\n",
      "mean       0.025651\n",
      "std        0.277362\n",
      "min        0.000000\n",
      "25%        0.000000\n",
      "50%        0.000000\n",
      "75%        0.000000\n",
      "max       28.624352\n"
     ]
    }
   ],
   "source": [
    "print(promoters_labels.describe())\n",
    "print('-'*20)\n",
    "print(enhancers_labels.describe())"
   ]
  },
  {
   "cell_type": "markdown",
   "id": "c2e8b84d",
   "metadata": {},
   "source": [
    "### Soglie "
   ]
  },
  {
   "cell_type": "code",
   "execution_count": 126,
   "id": "0c30e51c",
   "metadata": {},
   "outputs": [],
   "source": [
    "def threshold_imbalance(pro_thre:int, enh_thre:int) -> tuple:\n",
    "    rate1 = (promoters_labels['A549']> pro_thre).mean()\n",
    "    rate2 = (enhancers_labels['A549']> enh_thre).mean()\n",
    "    \n",
    "    return ('promoters_rate: ' + str(rate1),'enhancers_rate: '+ str(rate2))"
   ]
  },
  {
   "cell_type": "code",
   "execution_count": 127,
   "id": "b921578d",
   "metadata": {},
   "outputs": [
    {
     "data": {
      "text/plain": [
       "('promoters_rate: 0.10314273986043392', 'enhancers_rate: 0.05693292249348187')"
      ]
     },
     "execution_count": 127,
     "metadata": {},
     "output_type": "execute_result"
    }
   ],
   "source": [
    "threshold_imbalance(5, 0)"
   ]
  },
  {
   "cell_type": "code",
   "execution_count": 128,
   "id": "4ba99eec",
   "metadata": {},
   "outputs": [
    {
     "data": {
      "text/plain": [
       "('promoters_rate: 0.20401277520249098', 'enhancers_rate: 0.003681757130441653')"
      ]
     },
     "execution_count": 128,
     "metadata": {},
     "output_type": "execute_result"
    }
   ],
   "source": [
    "threshold_imbalance(1, 1)"
   ]
  },
  {
   "cell_type": "markdown",
   "id": "68f6e38d",
   "metadata": {},
   "source": [
    "## Pre-processing"
   ]
  },
  {
   "cell_type": "code",
   "execution_count": 64,
   "id": "4b759692",
   "metadata": {},
   "outputs": [
    {
     "name": "stdout",
     "output_type": "stream",
     "text": [
      "The rate between samples and features for promoters data is: 2080.8541666666665\n",
      "--------------------------------------------------------------------------------\n",
      "The rate between samples and features for enhancers data is: 1318.4375\n",
      "--------------------------------------------------------------------------------\n"
     ]
    }
   ],
   "source": [
    "pre_pro.rate_samples_features(epigenomes)"
   ]
  },
  {
   "cell_type": "code",
   "execution_count": 65,
   "id": "4d4aa6c2",
   "metadata": {},
   "outputs": [
    {
     "name": "stdout",
     "output_type": "stream",
     "text": [
      "Nan values report for promoters data:\n",
      "\n",
      "- In the document there are 372 NaN values out of 4794288 values.\n",
      "  % nan/totale = 0.007759233487850542.\n",
      "- The sample (row) with most values has 2 NaN values out of 48 values.\n",
      "- The feature (column) with most values has 189 NaN values out of 99881 values.\n",
      "- % nan_col_values/tot_samples = 0.18922517796177452\n",
      "--------------------------------------------------------------------------------\n",
      "Nan values report for enhancers data:\n",
      "\n",
      "- In the document there are 32 NaN values out of 3037680 values.\n",
      "  % nan/totale = 0.0010534355165784414.\n",
      "- The sample (row) with most values has 1 NaN values out of 48 values.\n",
      "- The feature (column) with most values has 32 NaN values out of 63285 values.\n",
      "- % nan_col_values/tot_samples = 0.05056490479576519\n",
      "--------------------------------------------------------------------------------\n"
     ]
    }
   ],
   "source": [
    "# NaN values\n",
    "\n",
    "for region, x in epigenomes.items():\n",
    "    print(\"\\n\".join((\n",
    "        f\"Nan values report for {region} data:\\n\",\n",
    "        f\"- In the document there are {x.isna().values.sum()} NaN values out of {x.values.size} values.\",\n",
    "        f\"  % nan/totale = {x.isna().values.sum()/x.values.size*100}.\",\n",
    "        f\"- The sample (row) with most values has {x.isna().sum(axis=1).max()} NaN values out of {x.shape[1]} values.\",\n",
    "        f\"- The feature (column) with most values has {x.isna().sum().max()} NaN values out of {x.shape[0]} values.\",\n",
    "        f\"- % nan_col_values/tot_samples = {x.isna().sum().max()/x.shape[0]*100}\"\n",
    "    )))\n",
    "    print(\"-\"*80)"
   ]
  },
  {
   "cell_type": "code",
   "execution_count": 66,
   "id": "6442c80a",
   "metadata": {},
   "outputs": [],
   "source": [
    "# I valori NaN vengono sostituiti tramite KNN\n",
    "\n",
    "for region, x in epigenomes.items():\n",
    "    epigenomes[region] = pre_pro.knn_imputer(x)"
   ]
  },
  {
   "cell_type": "markdown",
   "id": "6b98997e",
   "metadata": {},
   "source": [
    "#### Eliminazione features costanti"
   ]
  },
  {
   "cell_type": "code",
   "execution_count": 67,
   "id": "31363211",
   "metadata": {},
   "outputs": [
    {
     "name": "stdout",
     "output_type": "stream",
     "text": [
      "No constant features were found in promoters!\n",
      "No constant features were found in enhancers!\n"
     ]
    }
   ],
   "source": [
    "for region, x in epigenomes.items():\n",
    "    result = pre_pro.drop_constant_features(x)\n",
    "    if x.shape[1] != result.shape[1]:\n",
    "        print(f\"Features in {region} were constant and had to be dropped!\")\n",
    "        epigenomes[region] = result\n",
    "    else:\n",
    "        print(f\"No constant features were found in {region}!\")"
   ]
  },
  {
   "cell_type": "markdown",
   "id": "4ab5630d",
   "metadata": {},
   "source": [
    "#### Normalizzazione\n",
    "\n",
    "Usiamo robust_scaler (sottraendo la mediana, non sensibile agli outlier, e dividendo per la sd tra il primo e il terzo quartile, è una versione migliore di z-scoring "
   ]
  },
  {
   "cell_type": "code",
   "execution_count": 68,
   "id": "8421bdfc",
   "metadata": {},
   "outputs": [],
   "source": [
    "epigenomes = {\n",
    "    region: pre_pro.robust_zscoring(x)\n",
    "    for region, x in epigenomes.items()\n",
    "}"
   ]
  },
  {
   "cell_type": "markdown",
   "id": "a0bddac1",
   "metadata": {},
   "source": [
    "## Correlazione con l'output\n",
    "\n",
    "\n",
    "se le features non hanno nessun tipo di correlazione con l'output, possiamo pensare di eliminarle"
   ]
  },
  {
   "cell_type": "code",
   "execution_count": 13,
   "id": "09802d26",
   "metadata": {},
   "outputs": [],
   "source": [
    "p_value_threshold = 0.01 \n",
    "\n",
    "# salvo le features non correlate all'interno del dict uncorrelated\n",
    "uncorrelated = {\n",
    "    region: set()\n",
    "    for region in epigenomes\n",
    "}"
   ]
  },
  {
   "cell_type": "markdown",
   "id": "43c10a62",
   "metadata": {},
   "source": [
    "#### Correlazione lineare di Pearson"
   ]
  },
  {
   "cell_type": "code",
   "execution_count": 14,
   "id": "8bdb5490",
   "metadata": {},
   "outputs": [
    {
     "name": "stdout",
     "output_type": "stream",
     "text": [
      "\n",
      "Calcolo coefficiente di Pearson per promoters:\n",
      "\n",
      "La feature ZC3H11A non è correlata in modo significativo con l'output, corr: -0.00021743447940157038\n",
      "La feature PRDM1 non è correlata in modo significativo con l'output, corr: 0.007639434842807909\n",
      "La feature EHMT2 non è correlata in modo significativo con l'output, corr: 0.003373545879994956\n",
      "La feature FOSB non è correlata in modo significativo con l'output, corr: 0.0072934610937671895\n",
      "La feature SREBF2 non è correlata in modo significativo con l'output, corr: 0.006681096810455964\n",
      "La feature FOXF2 non è correlata in modo significativo con l'output, corr: 0.0020626623301107975\n",
      "La feature RFX5 non è correlata in modo significativo con l'output, corr: 0.007223260400821491\n",
      "La feature CHD4 non è correlata in modo significativo con l'output, corr: 0.0008994964099302842\n",
      "\n",
      "Calcolo coefficiente di Pearson per enhancers:\n",
      "\n",
      "La feature ZC3H11A non è correlata in modo significativo con l'output, corr: 0.002585249345050187\n",
      "La feature CBX2 non è correlata in modo significativo con l'output, corr: -0.005538043453544163\n",
      "La feature EHMT2 non è correlata in modo significativo con l'output, corr: 0.007965151464461025\n"
     ]
    }
   ],
   "source": [
    "corr.output_correlation('pearson', epigenomes, p_value_threshold, uncorrelated, labels)"
   ]
  },
  {
   "cell_type": "markdown",
   "id": "aab6f80f",
   "metadata": {},
   "source": [
    "#### Correlazione monotona di Spearman"
   ]
  },
  {
   "cell_type": "code",
   "execution_count": 15,
   "id": "401a9492",
   "metadata": {},
   "outputs": [
    {
     "name": "stdout",
     "output_type": "stream",
     "text": [
      "\n",
      "Calcolo coefficiente di Pearson per promoters:\n",
      "\n",
      "\n",
      "Calcolo coefficiente di Pearson per enhancers:\n",
      "\n",
      "La feature CBX2 non è correlata in modo significativo con l'output, corr: -0.0011977744523758835\n",
      "La feature KDM5A non è correlata in modo significativo con l'output, corr: -0.003756719176732011\n"
     ]
    }
   ],
   "source": [
    "corr.output_correlation('spearman', epigenomes, p_value_threshold, uncorrelated, labels)"
   ]
  },
  {
   "cell_type": "code",
   "execution_count": 16,
   "id": "79eefed5",
   "metadata": {},
   "outputs": [],
   "source": [
    "# minepy per Windows non vabbene"
   ]
  },
  {
   "cell_type": "markdown",
   "id": "237b8a43",
   "metadata": {},
   "source": [
    "#### Elimino features non correlate con l'output"
   ]
  },
  {
   "cell_type": "code",
   "execution_count": 17,
   "id": "dda7de51",
   "metadata": {},
   "outputs": [],
   "source": [
    "for region, x in epigenomes.items():\n",
    "    epigenomes[region] =x.drop(columns=[\n",
    "        col\n",
    "        for col in uncorrelated[region]\n",
    "        if col in x.columns\n",
    "    ])"
   ]
  },
  {
   "cell_type": "markdown",
   "id": "160c8945",
   "metadata": {},
   "source": [
    "## Correlazione tra features\n",
    "\n",
    "\n",
    "se le features non hanno nessun tipo di correlazione con l'output, possiamo pensare di eliminarle"
   ]
  },
  {
   "cell_type": "code",
   "execution_count": 18,
   "id": "d5fc1e0e",
   "metadata": {},
   "outputs": [],
   "source": [
    "correlation_threshold = 0.95\n",
    "\n",
    "extremely_correlated = {\n",
    "    region: set()\n",
    "    for region in epigenomes\n",
    "}\n",
    "\n",
    "scores = {\n",
    "    region: []\n",
    "    for region in epigenomes\n",
    "}"
   ]
  },
  {
   "cell_type": "markdown",
   "id": "e482f2ea",
   "metadata": {},
   "source": [
    "#### Correlazione lineare di Pearson"
   ]
  },
  {
   "cell_type": "code",
   "execution_count": 20,
   "id": "bc15593a",
   "metadata": {},
   "outputs": [
    {
     "data": {
      "application/vnd.jupyter.widget-view+json": {
       "model_id": "",
       "version_major": 2,
       "version_minor": 0
      },
      "text/plain": [
       "Running Pearson test for promoters:   0%|                                                       | 0/40 [00:00<…"
      ]
     },
     "metadata": {},
     "output_type": "display_data"
    },
    {
     "data": {
      "application/vnd.jupyter.widget-view+json": {
       "model_id": "",
       "version_major": 2,
       "version_minor": 0
      },
      "text/plain": [
       "Running Pearson test for enhancers:   0%|                                                       | 0/44 [00:00<…"
      ]
     },
     "metadata": {},
     "output_type": "display_data"
    }
   ],
   "source": [
    "corr.features_correlation(\n",
    "    'pearson', epigenomes, p_value_threshold, correlation_threshold, extremely_correlated, scores)"
   ]
  },
  {
   "cell_type": "markdown",
   "id": "9851e2e6",
   "metadata": {},
   "source": [
    "#### Correlazione monotona di Spearman"
   ]
  },
  {
   "cell_type": "code",
   "execution_count": 26,
   "id": "bd8d57dc",
   "metadata": {},
   "outputs": [
    {
     "data": {
      "application/vnd.jupyter.widget-view+json": {
       "model_id": "",
       "version_major": 2,
       "version_minor": 0
      },
      "text/plain": [
       "Running Pearson test for promoters:   0%|                                                       | 0/40 [00:00<…"
      ]
     },
     "metadata": {},
     "output_type": "display_data"
    },
    {
     "data": {
      "application/vnd.jupyter.widget-view+json": {
       "model_id": "",
       "version_major": 2,
       "version_minor": 0
      },
      "text/plain": [
       "Running Pearson test for enhancers:   0%|                                                       | 0/44 [00:00<…"
      ]
     },
     "metadata": {},
     "output_type": "display_data"
    }
   ],
   "source": [
    "corr.features_correlation(\n",
    "    'spearman', epigenomes, p_value_threshold, correlation_threshold, extremely_correlated, scores)"
   ]
  },
  {
   "cell_type": "code",
   "execution_count": 30,
   "id": "8a12e1ed",
   "metadata": {},
   "outputs": [
    {
     "data": {
      "text/plain": [
       "{'promoters': set(), 'enhancers': set()}"
      ]
     },
     "execution_count": 30,
     "metadata": {},
     "output_type": "execute_result"
    }
   ],
   "source": [
    "# non ci sono features altamente correlate\n",
    "extremely_correlated"
   ]
  },
  {
   "cell_type": "code",
   "execution_count": 33,
   "id": "6fc156da",
   "metadata": {},
   "outputs": [],
   "source": [
    "# Ordine le correlazioni in modo decrescente\n",
    "scores = {\n",
    "    region:sorted(score, key=lambda x: np.abs(x[0]), reverse=True)\n",
    "    for region, score in scores.items()\n",
    "}"
   ]
  },
  {
   "cell_type": "code",
   "execution_count": null,
   "id": "1c13d6a6",
   "metadata": {
    "scrolled": false
   },
   "outputs": [],
   "source": [
    "import seaborn as sns\n",
    "import pandas as pd \n",
    "\n",
    "for region, x in epigenomes.items():\n",
    "    _, firsts_feat, seconds_feat = list(zip(*scores[region][:3]))\n",
    "    columns = list(set(firsts_feat + seconds_feat))\n",
    "    print(f'Most correlated features from {region}')\n",
    "    sns.pairplot(pd.concat([\n",
    "        x[columns],\n",
    "        labels[region],\n",
    "    ], axis=1), hue=labels[region].columns[0])\n",
    "    plt.show()"
   ]
  },
  {
   "cell_type": "code",
   "execution_count": 50,
   "id": "f740035d",
   "metadata": {},
   "outputs": [
    {
     "data": {
      "text/html": [
       "<div>\n",
       "<style scoped>\n",
       "    .dataframe tbody tr th:only-of-type {\n",
       "        vertical-align: middle;\n",
       "    }\n",
       "\n",
       "    .dataframe tbody tr th {\n",
       "        vertical-align: top;\n",
       "    }\n",
       "\n",
       "    .dataframe thead th {\n",
       "        text-align: right;\n",
       "    }\n",
       "</style>\n",
       "<table border=\"1\" class=\"dataframe\">\n",
       "  <thead>\n",
       "    <tr style=\"text-align: right;\">\n",
       "      <th></th>\n",
       "      <th></th>\n",
       "      <th></th>\n",
       "      <th></th>\n",
       "      <th>ATAC-seq</th>\n",
       "      <th>RAD21</th>\n",
       "      <th>DNase-seq</th>\n",
       "      <th>CTCF</th>\n",
       "      <th>SMC3</th>\n",
       "      <th>A549</th>\n",
       "    </tr>\n",
       "    <tr>\n",
       "      <th>chrom</th>\n",
       "      <th>chromStart</th>\n",
       "      <th>chromEnd</th>\n",
       "      <th>strand</th>\n",
       "      <th></th>\n",
       "      <th></th>\n",
       "      <th></th>\n",
       "      <th></th>\n",
       "      <th></th>\n",
       "      <th></th>\n",
       "    </tr>\n",
       "  </thead>\n",
       "  <tbody>\n",
       "    <tr>\n",
       "      <th rowspan=\"5\" valign=\"top\">chr10</th>\n",
       "      <th>100006381</th>\n",
       "      <th>100006637</th>\n",
       "      <th>.</th>\n",
       "      <td>5.632075</td>\n",
       "      <td>0.187500</td>\n",
       "      <td>19.750000</td>\n",
       "      <td>0.354167</td>\n",
       "      <td>0.625000</td>\n",
       "      <td>0.223628</td>\n",
       "    </tr>\n",
       "    <tr>\n",
       "      <th>100008146</th>\n",
       "      <th>100008402</th>\n",
       "      <th>.</th>\n",
       "      <td>0.103774</td>\n",
       "      <td>0.218750</td>\n",
       "      <td>1.000000</td>\n",
       "      <td>0.562500</td>\n",
       "      <td>-0.388889</td>\n",
       "      <td>0.000000</td>\n",
       "    </tr>\n",
       "    <tr>\n",
       "      <th>100014418</th>\n",
       "      <th>100014674</th>\n",
       "      <th>.</th>\n",
       "      <td>-0.349057</td>\n",
       "      <td>0.281250</td>\n",
       "      <td>0.000000</td>\n",
       "      <td>0.312500</td>\n",
       "      <td>0.694444</td>\n",
       "      <td>0.000000</td>\n",
       "    </tr>\n",
       "    <tr>\n",
       "      <th>100020216</th>\n",
       "      <th>100020472</th>\n",
       "      <th>.</th>\n",
       "      <td>5.641509</td>\n",
       "      <td>0.843750</td>\n",
       "      <td>18.833333</td>\n",
       "      <td>1.083333</td>\n",
       "      <td>0.111111</td>\n",
       "      <td>0.000000</td>\n",
       "    </tr>\n",
       "    <tr>\n",
       "      <th>100043528</th>\n",
       "      <th>100043784</th>\n",
       "      <th>.</th>\n",
       "      <td>0.754717</td>\n",
       "      <td>0.640625</td>\n",
       "      <td>1.916667</td>\n",
       "      <td>3.833333</td>\n",
       "      <td>0.250000</td>\n",
       "      <td>0.000000</td>\n",
       "    </tr>\n",
       "    <tr>\n",
       "      <th>...</th>\n",
       "      <th>...</th>\n",
       "      <th>...</th>\n",
       "      <th>...</th>\n",
       "      <td>...</td>\n",
       "      <td>...</td>\n",
       "      <td>...</td>\n",
       "      <td>...</td>\n",
       "      <td>...</td>\n",
       "      <td>...</td>\n",
       "    </tr>\n",
       "    <tr>\n",
       "      <th rowspan=\"5\" valign=\"top\">chrY</th>\n",
       "      <th>7520247</th>\n",
       "      <th>7520503</th>\n",
       "      <th>.</th>\n",
       "      <td>-0.641509</td>\n",
       "      <td>-0.187500</td>\n",
       "      <td>-0.416667</td>\n",
       "      <td>-0.854167</td>\n",
       "      <td>-0.888889</td>\n",
       "      <td>0.000000</td>\n",
       "    </tr>\n",
       "    <tr>\n",
       "      <th>7724272</th>\n",
       "      <th>7724528</th>\n",
       "      <th>.</th>\n",
       "      <td>-0.641509</td>\n",
       "      <td>-0.640625</td>\n",
       "      <td>-0.416667</td>\n",
       "      <td>-0.750000</td>\n",
       "      <td>-0.902778</td>\n",
       "      <td>0.000000</td>\n",
       "    </tr>\n",
       "    <tr>\n",
       "      <th>7770029</th>\n",
       "      <th>7770285</th>\n",
       "      <th>.</th>\n",
       "      <td>-0.566038</td>\n",
       "      <td>-0.890625</td>\n",
       "      <td>-0.416667</td>\n",
       "      <td>-0.916667</td>\n",
       "      <td>-0.597222</td>\n",
       "      <td>0.000000</td>\n",
       "    </tr>\n",
       "    <tr>\n",
       "      <th>7796295</th>\n",
       "      <th>7796551</th>\n",
       "      <th>.</th>\n",
       "      <td>-0.584906</td>\n",
       "      <td>-1.140625</td>\n",
       "      <td>-0.500000</td>\n",
       "      <td>-0.979167</td>\n",
       "      <td>-1.263889</td>\n",
       "      <td>0.000000</td>\n",
       "    </tr>\n",
       "    <tr>\n",
       "      <th>8007562</th>\n",
       "      <th>8007818</th>\n",
       "      <th>.</th>\n",
       "      <td>-0.641509</td>\n",
       "      <td>-0.015625</td>\n",
       "      <td>-0.416667</td>\n",
       "      <td>-0.791667</td>\n",
       "      <td>-0.486111</td>\n",
       "      <td>0.000000</td>\n",
       "    </tr>\n",
       "  </tbody>\n",
       "</table>\n",
       "<p>63285 rows × 6 columns</p>\n",
       "</div>"
      ],
      "text/plain": [
       "                                   ATAC-seq     RAD21  DNase-seq      CTCF  \\\n",
       "chrom chromStart chromEnd  strand                                            \n",
       "chr10 100006381  100006637 .       5.632075  0.187500  19.750000  0.354167   \n",
       "      100008146  100008402 .       0.103774  0.218750   1.000000  0.562500   \n",
       "      100014418  100014674 .      -0.349057  0.281250   0.000000  0.312500   \n",
       "      100020216  100020472 .       5.641509  0.843750  18.833333  1.083333   \n",
       "      100043528  100043784 .       0.754717  0.640625   1.916667  3.833333   \n",
       "...                                     ...       ...        ...       ...   \n",
       "chrY  7520247    7520503   .      -0.641509 -0.187500  -0.416667 -0.854167   \n",
       "      7724272    7724528   .      -0.641509 -0.640625  -0.416667 -0.750000   \n",
       "      7770029    7770285   .      -0.566038 -0.890625  -0.416667 -0.916667   \n",
       "      7796295    7796551   .      -0.584906 -1.140625  -0.500000 -0.979167   \n",
       "      8007562    8007818   .      -0.641509 -0.015625  -0.416667 -0.791667   \n",
       "\n",
       "                                       SMC3      A549  \n",
       "chrom chromStart chromEnd  strand                      \n",
       "chr10 100006381  100006637 .       0.625000  0.223628  \n",
       "      100008146  100008402 .      -0.388889  0.000000  \n",
       "      100014418  100014674 .       0.694444  0.000000  \n",
       "      100020216  100020472 .       0.111111  0.000000  \n",
       "      100043528  100043784 .       0.250000  0.000000  \n",
       "...                                     ...       ...  \n",
       "chrY  7520247    7520503   .      -0.888889  0.000000  \n",
       "      7724272    7724528   .      -0.902778  0.000000  \n",
       "      7770029    7770285   .      -0.597222  0.000000  \n",
       "      7796295    7796551   .      -1.263889  0.000000  \n",
       "      8007562    8007818   .      -0.486111  0.000000  \n",
       "\n",
       "[63285 rows x 6 columns]"
      ]
     },
     "execution_count": 50,
     "metadata": {},
     "output_type": "execute_result"
    }
   ],
   "source": [
    "import pandas as pd\n",
    "_, firsts, seconds = list(zip(*scores[region][:3]))\n",
    "columns = list(set(firsts+seconds))\n",
    "\n",
    "\n",
    "pd = pd.concat([ x[columns], labels[region]],  axis=1)\n",
    "x[columns]\n",
    "pd"
   ]
  }
 ],
 "metadata": {
  "kernelspec": {
   "display_name": "Python 3 (ipykernel)",
   "language": "python",
   "name": "python3"
  },
  "language_info": {
   "codemirror_mode": {
    "name": "ipython",
    "version": 3
   },
   "file_extension": ".py",
   "mimetype": "text/x-python",
   "name": "python",
   "nbconvert_exporter": "python",
   "pygments_lexer": "ipython3",
   "version": "3.9.7"
  }
 },
 "nbformat": 4,
 "nbformat_minor": 5
}
